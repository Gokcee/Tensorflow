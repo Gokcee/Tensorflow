{
 "cells": [
  {
   "cell_type": "markdown",
   "id": "13ade65e",
   "metadata": {},
   "source": [
    "# Scope"
   ]
  },
  {
   "cell_type": "code",
   "execution_count": 3,
   "id": "110e339c",
   "metadata": {},
   "outputs": [],
   "source": [
    "numara=20\n",
    "def carpma(rakam):\n",
    "    numara=10\n",
    "    return numara*rakam"
   ]
  },
  {
   "cell_type": "code",
   "execution_count": 4,
   "id": "9b03968a",
   "metadata": {},
   "outputs": [
    {
     "data": {
      "text/plain": [
       "50"
      ]
     },
     "execution_count": 4,
     "metadata": {},
     "output_type": "execute_result"
    }
   ],
   "source": [
    "carpma(5)"
   ]
  },
  {
   "cell_type": "code",
   "execution_count": 5,
   "id": "42974a31",
   "metadata": {},
   "outputs": [
    {
     "name": "stdout",
     "output_type": "stream",
     "text": [
      "20\n"
     ]
    }
   ],
   "source": [
    "print(numara)"
   ]
  },
  {
   "cell_type": "code",
   "execution_count": 6,
   "id": "51a8f16f",
   "metadata": {},
   "outputs": [],
   "source": [
    "x=20\n",
    "x=10"
   ]
  },
  {
   "cell_type": "code",
   "execution_count": 7,
   "id": "96b33426",
   "metadata": {},
   "outputs": [
    {
     "data": {
      "text/plain": [
       "10"
      ]
     },
     "execution_count": 7,
     "metadata": {},
     "output_type": "execute_result"
    }
   ],
   "source": [
    "x"
   ]
  },
  {
   "cell_type": "markdown",
   "id": "07bfba1c",
   "metadata": {},
   "source": [
    "## Local, Enclosing, Global, Built-In"
   ]
  },
  {
   "cell_type": "code",
   "execution_count": 9,
   "id": "bb37f68a",
   "metadata": {},
   "outputs": [],
   "source": [
    "benimadim=\"Gokce\"\n",
    "#Global\n",
    "\n",
    "def benimfonksiyonum():\n",
    "    benimadim=\"Mahmut\"\n",
    "    #Enclosing\n",
    "    \n",
    "    def icfonksiyon():\n",
    "        benimadim=\"Ayse\"\n",
    "        #Local\n",
    "        print(benimadim)\n",
    "    icfonksiyon()"
   ]
  },
  {
   "cell_type": "code",
   "execution_count": 11,
   "id": "73fb144c",
   "metadata": {},
   "outputs": [
    {
     "name": "stdout",
     "output_type": "stream",
     "text": [
      "Ayse\n"
     ]
    }
   ],
   "source": [
    "benimfonksiyonum()"
   ]
  },
  {
   "cell_type": "code",
   "execution_count": 12,
   "id": "4c2bb0b1",
   "metadata": {},
   "outputs": [
    {
     "name": "stdout",
     "output_type": "stream",
     "text": [
      "Gokce\n"
     ]
    }
   ],
   "source": [
    "print(benimadim)"
   ]
  },
  {
   "cell_type": "code",
   "execution_count": 13,
   "id": "76d1c3c3",
   "metadata": {},
   "outputs": [],
   "source": [
    "## Yukarıdaki örnekte tanımlanan fonksiyon ilk olarak \"Local\"deki değeri döndürür. \n",
    "## Eğer local yoksa \"Enclosing\" değerini döndürür. \n",
    "## O da yoksa \"Global\" e geçer \n",
    "## Ve son olarak orada da yoksa \"Built-in\" yapısı yani tüm python kodu içerisinde arama yapar.\n",
    "\n",
    "#-->Aşağıda seçenekler gösterilmiştir."
   ]
  },
  {
   "cell_type": "code",
   "execution_count": 14,
   "id": "91c47987",
   "metadata": {},
   "outputs": [],
   "source": [
    "benimadim=\"Gokce\"\n",
    "#Global\n",
    "\n",
    "def benimfonksiyonum():\n",
    "    benimadim=\"Mahmut\"\n",
    "    #Enclosing\n",
    "    \n",
    "    def icfonksiyon():\n",
    "        #benimadim=\"Ayse\"\n",
    "        #Local\n",
    "        print(benimadim)\n",
    "    icfonksiyon()"
   ]
  },
  {
   "cell_type": "code",
   "execution_count": 15,
   "id": "2efa5b52",
   "metadata": {},
   "outputs": [
    {
     "name": "stdout",
     "output_type": "stream",
     "text": [
      "Mahmut\n"
     ]
    }
   ],
   "source": [
    "benimfonksiyonum()"
   ]
  },
  {
   "cell_type": "code",
   "execution_count": 16,
   "id": "e22f7173",
   "metadata": {},
   "outputs": [],
   "source": [
    "benimadim=\"Gokce\"\n",
    "#Global\n",
    "\n",
    "def benimfonksiyonum():\n",
    "    #benimadim=\"Mahmut\"\n",
    "    #Enclosing\n",
    "    \n",
    "    def icfonksiyon():\n",
    "        #benimadim=\"Ayse\"\n",
    "        #Local\n",
    "        print(benimadim)\n",
    "    icfonksiyon()"
   ]
  },
  {
   "cell_type": "code",
   "execution_count": 17,
   "id": "7c4fb3f2",
   "metadata": {},
   "outputs": [
    {
     "name": "stdout",
     "output_type": "stream",
     "text": [
      "Gokce\n"
     ]
    }
   ],
   "source": [
    "benimfonksiyonum()"
   ]
  },
  {
   "cell_type": "code",
   "execution_count": 19,
   "id": "9ddf31dc",
   "metadata": {},
   "outputs": [],
   "source": [
    "y=10\n",
    "\n",
    "def yenifonksiyon(y):\n",
    "    print(y)\n",
    "    y=5\n",
    "    print(y)\n",
    "    return y"
   ]
  },
  {
   "cell_type": "code",
   "execution_count": 20,
   "id": "ce7a1b95",
   "metadata": {},
   "outputs": [
    {
     "name": "stdout",
     "output_type": "stream",
     "text": [
      "3\n",
      "5\n"
     ]
    },
    {
     "data": {
      "text/plain": [
       "5"
      ]
     },
     "execution_count": 20,
     "metadata": {},
     "output_type": "execute_result"
    }
   ],
   "source": [
    "yenifonksiyon(3)"
   ]
  },
  {
   "cell_type": "code",
   "execution_count": 21,
   "id": "8d7153a0",
   "metadata": {},
   "outputs": [
    {
     "name": "stdout",
     "output_type": "stream",
     "text": [
      "3\n",
      "5\n"
     ]
    }
   ],
   "source": [
    "y=yenifonksiyon(3)"
   ]
  },
  {
   "cell_type": "code",
   "execution_count": 22,
   "id": "a7071638",
   "metadata": {},
   "outputs": [
    {
     "data": {
      "text/plain": [
       "5"
      ]
     },
     "execution_count": 22,
     "metadata": {},
     "output_type": "execute_result"
    }
   ],
   "source": [
    "y"
   ]
  },
  {
   "cell_type": "code",
   "execution_count": 23,
   "id": "4f9e3738",
   "metadata": {},
   "outputs": [],
   "source": [
    "y=10\n",
    "\n",
    "def ornekfonksiyon():\n",
    "    global y\n",
    "    y=5\n",
    "    print(y)"
   ]
  },
  {
   "cell_type": "code",
   "execution_count": 24,
   "id": "51a1e6ab",
   "metadata": {},
   "outputs": [
    {
     "name": "stdout",
     "output_type": "stream",
     "text": [
      "5\n"
     ]
    }
   ],
   "source": [
    "ornekfonksiyon()"
   ]
  },
  {
   "cell_type": "code",
   "execution_count": 25,
   "id": "375765ae",
   "metadata": {},
   "outputs": [
    {
     "data": {
      "text/plain": [
       "5"
      ]
     },
     "execution_count": 25,
     "metadata": {},
     "output_type": "execute_result"
    }
   ],
   "source": [
    "y"
   ]
  },
  {
   "cell_type": "code",
   "execution_count": null,
   "id": "9f116d80",
   "metadata": {},
   "outputs": [],
   "source": []
  }
 ],
 "metadata": {
  "kernelspec": {
   "display_name": "Python 3 (ipykernel)",
   "language": "python",
   "name": "python3"
  },
  "language_info": {
   "codemirror_mode": {
    "name": "ipython",
    "version": 3
   },
   "file_extension": ".py",
   "mimetype": "text/x-python",
   "name": "python",
   "nbconvert_exporter": "python",
   "pygments_lexer": "ipython3",
   "version": "3.9.7"
  }
 },
 "nbformat": 4,
 "nbformat_minor": 5
}
