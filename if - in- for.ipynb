{
 "cells": [
  {
   "cell_type": "code",
   "execution_count": 1,
   "id": "616046ce",
   "metadata": {},
   "outputs": [
    {
     "name": "stdout",
     "output_type": "stream",
     "text": [
      "gokce dogan\n"
     ]
    }
   ],
   "source": [
    "if 3>1:\n",
    "    print(\"gokce dogan\")"
   ]
  },
  {
   "cell_type": "code",
   "execution_count": 2,
   "id": "59a9e926",
   "metadata": {},
   "outputs": [],
   "source": [
    "if 3>4:\n",
    "    print (\"gokce dogan\")\n",
    "    print(\"if kosulu saglandı\")"
   ]
  },
  {
   "cell_type": "code",
   "execution_count": 4,
   "id": "29fd912e",
   "metadata": {},
   "outputs": [],
   "source": [
    "x=5\n",
    "y=4"
   ]
  },
  {
   "cell_type": "code",
   "execution_count": 7,
   "id": "ab6b055a",
   "metadata": {},
   "outputs": [
    {
     "name": "stdout",
     "output_type": "stream",
     "text": [
      "x, y'den daha büyükmüş\n"
     ]
    }
   ],
   "source": [
    "if x>y :\n",
    "    print(\"x, y'den daha büyükmüş\")\n",
    "elif y>x:\n",
    "    print(\"y, x'ten daha büyükmüş\")\n",
    "else:\n",
    "    print(\"y ve x birbirine eşitmiş\")"
   ]
  },
  {
   "cell_type": "code",
   "execution_count": 13,
   "id": "7700adfd",
   "metadata": {},
   "outputs": [
    {
     "name": "stdout",
     "output_type": "stream",
     "text": [
      "super kahraman seçiniz: Heman\n"
     ]
    }
   ],
   "source": [
    "benimkahramanım=input (\"super kahraman seçiniz: \")"
   ]
  },
  {
   "cell_type": "code",
   "execution_count": 14,
   "id": "2b17cfea",
   "metadata": {},
   "outputs": [
    {
     "name": "stdout",
     "output_type": "stream",
     "text": [
      "Bu kim gerçekten bilmiyoruz\n"
     ]
    }
   ],
   "source": [
    "if benimkahramanım==\"Batman\":\n",
    "    print(\"Batman'i seçtiniz tebrikler\")\n",
    "elif benimkahramanım==\"Superman\":\n",
    "    print(\"Keşke Batman'i seçseydiniz\")\n",
    "elif benimkahramanım==\"Ironman\":\n",
    "    print(\"Iron man kimdir?\")\n",
    "else:\n",
    "    print(\"Bu kim gerçekten bilmiyoruz\")      "
   ]
  },
  {
   "cell_type": "code",
   "execution_count": 15,
   "id": "8371aa37",
   "metadata": {},
   "outputs": [],
   "source": [
    "a=10\n",
    "b=20\n",
    "c=20"
   ]
  },
  {
   "cell_type": "code",
   "execution_count": 16,
   "id": "798829b2",
   "metadata": {},
   "outputs": [
    {
     "name": "stdout",
     "output_type": "stream",
     "text": [
      "bu kosullar tutmadı\n"
     ]
    }
   ],
   "source": [
    "if a>b and b>c:\n",
    "    print(\"a, b'den büyük ve b'de c'den büyük\")\n",
    "elif a<b and b<c:\n",
    "    print(\"a,b'den küçük ve b de c'den küçük\")\n",
    "else:\n",
    "    print(\"bu kosullar tutmadı\")"
   ]
  },
  {
   "cell_type": "code",
   "execution_count": 18,
   "id": "a6bbfb12",
   "metadata": {},
   "outputs": [],
   "source": [
    "karaktercanli= True"
   ]
  },
  {
   "cell_type": "code",
   "execution_count": 19,
   "id": "257dff2c",
   "metadata": {},
   "outputs": [
    {
     "name": "stdout",
     "output_type": "stream",
     "text": [
      "oyun karakteriniz yaşıyor\n"
     ]
    }
   ],
   "source": [
    "if karaktercanli== True:\n",
    "    print(\"oyun karakteriniz yaşıyor\")\n",
    "else:\n",
    "    print(\"oyun karakteriniz yaşamıyor\")"
   ]
  },
  {
   "cell_type": "code",
   "execution_count": 20,
   "id": "e2eb74c2",
   "metadata": {},
   "outputs": [
    {
     "name": "stdout",
     "output_type": "stream",
     "text": [
      "oyun karekteriniz yaşıyor\n"
     ]
    }
   ],
   "source": [
    "if karaktercanli:\n",
    "    print(\"oyun karekteriniz yaşıyor\")\n",
    "else:\n",
    "    print(\"oyun karakteriniz yaşamıyor\")"
   ]
  },
  {
   "cell_type": "code",
   "execution_count": 21,
   "id": "cb2f7cb7",
   "metadata": {},
   "outputs": [],
   "source": [
    "if not karaktercanli:\n",
    "    print(\"karakter canlı değil\")\n",
    "    "
   ]
  },
  {
   "cell_type": "code",
   "execution_count": 22,
   "id": "758800af",
   "metadata": {},
   "outputs": [],
   "source": [
    "benimstring=\"Gokce Dogan\""
   ]
  },
  {
   "cell_type": "code",
   "execution_count": 25,
   "id": "2df95125",
   "metadata": {},
   "outputs": [
    {
     "name": "stdout",
     "output_type": "stream",
     "text": [
      "eşit değilmiş\n"
     ]
    }
   ],
   "source": [
    "if benimstring== \"gokce dogan\":\n",
    "    print(\"eşitmiş\")\n",
    "else:\n",
    "    print(\"eşit değilmiş\")"
   ]
  },
  {
   "cell_type": "code",
   "execution_count": 27,
   "id": "0a065b79",
   "metadata": {},
   "outputs": [
    {
     "name": "stdout",
     "output_type": "stream",
     "text": [
      "varmış\n"
     ]
    }
   ],
   "source": [
    "if \"Gokce\" in benimstring:\n",
    "    print(\"varmış\")\n",
    "else:\n",
    "    print(\"yokmuş\")"
   ]
  },
  {
   "cell_type": "code",
   "execution_count": 28,
   "id": "f06cce40",
   "metadata": {},
   "outputs": [
    {
     "name": "stdout",
     "output_type": "stream",
     "text": [
      "yokmuş\n"
     ]
    }
   ],
   "source": [
    "if \"gokce\" in benimstring:\n",
    "    print(\"varmış\")\n",
    "else:\n",
    "    print(\"yokmuş\")"
   ]
  },
  {
   "cell_type": "code",
   "execution_count": 29,
   "id": "2eb5c5bf",
   "metadata": {},
   "outputs": [],
   "source": [
    "benimlistem=[10,20,30,40,50]"
   ]
  },
  {
   "cell_type": "code",
   "execution_count": 31,
   "id": "8801c1db",
   "metadata": {},
   "outputs": [],
   "source": [
    "if 60 in benimlistem:\n",
    "    print(\"evet var\")"
   ]
  },
  {
   "cell_type": "code",
   "execution_count": 33,
   "id": "0cdb5190",
   "metadata": {},
   "outputs": [],
   "source": [
    "benimsozluk={\"muz\":100, \"elma\":150, \"karpuz\":500}"
   ]
  },
  {
   "cell_type": "code",
   "execution_count": 34,
   "id": "26054abb",
   "metadata": {},
   "outputs": [
    {
     "name": "stdout",
     "output_type": "stream",
     "text": [
      "varmış\n"
     ]
    }
   ],
   "source": [
    "if \"muz\" in benimsozluk.keys():\n",
    "    print(\"varmış\")"
   ]
  },
  {
   "cell_type": "code",
   "execution_count": 35,
   "id": "ad430043",
   "metadata": {},
   "outputs": [
    {
     "name": "stdout",
     "output_type": "stream",
     "text": [
      "evet\n"
     ]
    }
   ],
   "source": [
    "if 500 in benimsozluk.values():\n",
    "    print(\"evet\")"
   ]
  },
  {
   "cell_type": "markdown",
   "id": "11c80f5f",
   "metadata": {},
   "source": [
    "## For"
   ]
  },
  {
   "cell_type": "code",
   "execution_count": 36,
   "id": "59fa9fe4",
   "metadata": {},
   "outputs": [],
   "source": [
    "benimlistem =[10,20,30,40,50]"
   ]
  },
  {
   "cell_type": "code",
   "execution_count": 90,
   "id": "69102423",
   "metadata": {},
   "outputs": [
    {
     "name": "stdout",
     "output_type": "stream",
     "text": [
      "evet içerisinde mevcut\n"
     ]
    }
   ],
   "source": [
    "if 10 in benimlistem :\n",
    "    print(\"evet içerisinde mevcut\")"
   ]
  },
  {
   "cell_type": "code",
   "execution_count": 38,
   "id": "6ab73211",
   "metadata": {},
   "outputs": [
    {
     "data": {
      "text/plain": [
       "16.666666666666668"
      ]
     },
     "execution_count": 38,
     "metadata": {},
     "output_type": "execute_result"
    }
   ],
   "source": [
    "benimlistem[0]*5/3"
   ]
  },
  {
   "cell_type": "code",
   "execution_count": 39,
   "id": "eb35de3b",
   "metadata": {},
   "outputs": [
    {
     "data": {
      "text/plain": [
       "33.333333333333336"
      ]
     },
     "execution_count": 39,
     "metadata": {},
     "output_type": "execute_result"
    }
   ],
   "source": [
    "benimlistem[1]*5/3\n",
    "#Buişlemleri tüm elemanlar için yapmak istesek:"
   ]
  },
  {
   "cell_type": "code",
   "execution_count": 40,
   "id": "540fb8f4",
   "metadata": {},
   "outputs": [
    {
     "name": "stdout",
     "output_type": "stream",
     "text": [
      "10\n",
      "20\n",
      "30\n",
      "40\n",
      "50\n"
     ]
    }
   ],
   "source": [
    "for numara in benimlistem:\n",
    "    print (numara)"
   ]
  },
  {
   "cell_type": "code",
   "execution_count": 41,
   "id": "41f7839b",
   "metadata": {},
   "outputs": [
    {
     "name": "stdout",
     "output_type": "stream",
     "text": [
      "döngü başladı\n",
      "10\n",
      "20\n",
      "30\n",
      "40\n",
      "50\n",
      "döngü bitti\n"
     ]
    }
   ],
   "source": [
    "print(\"döngü başladı\")\n",
    "for numara in benimlistem:\n",
    "    print (numara)\n",
    "print(\"döngü bitti\")"
   ]
  },
  {
   "cell_type": "code",
   "execution_count": 42,
   "id": "925dee74",
   "metadata": {},
   "outputs": [
    {
     "name": "stdout",
     "output_type": "stream",
     "text": [
      "16.666666666666668\n",
      "33.333333333333336\n",
      "50.0\n",
      "66.66666666666667\n",
      "83.33333333333333\n"
     ]
    }
   ],
   "source": [
    "for num in benimlistem:\n",
    "    yeninumara=num*5/3\n",
    "    print(yeninumara)"
   ]
  },
  {
   "cell_type": "code",
   "execution_count": 43,
   "id": "d9d1af7c",
   "metadata": {},
   "outputs": [],
   "source": [
    "yeniliste =[1,2,3,4,5,6]"
   ]
  },
  {
   "cell_type": "code",
   "execution_count": 58,
   "id": "4fb04ef0",
   "metadata": {},
   "outputs": [
    {
     "name": "stdout",
     "output_type": "stream",
     "text": [
      "2\n",
      "4\n",
      "6\n"
     ]
    }
   ],
   "source": [
    "for rakam in yeniliste:\n",
    "    if rakam%2==0:\n",
    "        print(rakam)\n",
    "    "
   ]
  },
  {
   "cell_type": "code",
   "execution_count": 59,
   "id": "3f0b5b3d",
   "metadata": {},
   "outputs": [],
   "source": [
    "yenistring=\"Gokce Dogan\""
   ]
  },
  {
   "cell_type": "code",
   "execution_count": 62,
   "id": "7206e013",
   "metadata": {},
   "outputs": [
    {
     "name": "stdout",
     "output_type": "stream",
     "text": [
      "G\n",
      "o\n",
      "k\n",
      "c\n",
      "e\n",
      " \n",
      "D\n",
      "o\n",
      "g\n",
      "a\n",
      "n\n"
     ]
    }
   ],
   "source": [
    "for harf in yenistring:\n",
    "    print(harf)"
   ]
  },
  {
   "cell_type": "code",
   "execution_count": 63,
   "id": "0b16cf83",
   "metadata": {},
   "outputs": [],
   "source": [
    "benimtuple =(1,2,3,4,5)"
   ]
  },
  {
   "cell_type": "code",
   "execution_count": 64,
   "id": "82163a8c",
   "metadata": {},
   "outputs": [
    {
     "name": "stdout",
     "output_type": "stream",
     "text": [
      "-9\n",
      "-8\n",
      "-7\n",
      "-6\n",
      "-5\n"
     ]
    }
   ],
   "source": [
    "for eleman in benimtuple:\n",
    "    print(eleman-10)"
   ]
  },
  {
   "cell_type": "code",
   "execution_count": 80,
   "id": "bfd1f0a8",
   "metadata": {},
   "outputs": [],
   "source": [
    "kordinatlistesi=[(10.2,15.2),(32.4,16.2),(40.2,20.2)]"
   ]
  },
  {
   "cell_type": "code",
   "execution_count": 81,
   "id": "73b46714",
   "metadata": {},
   "outputs": [
    {
     "data": {
      "text/plain": [
       "tuple"
      ]
     },
     "execution_count": 81,
     "metadata": {},
     "output_type": "execute_result"
    }
   ],
   "source": [
    "type(kordinatlistesi[0])"
   ]
  },
  {
   "cell_type": "code",
   "execution_count": 82,
   "id": "5ec50cb4",
   "metadata": {},
   "outputs": [
    {
     "data": {
      "text/plain": [
       "(10.2, 15.2)"
      ]
     },
     "execution_count": 82,
     "metadata": {},
     "output_type": "execute_result"
    }
   ],
   "source": [
    "(kordinatlistesi[0])"
   ]
  },
  {
   "cell_type": "code",
   "execution_count": 83,
   "id": "9caad416",
   "metadata": {},
   "outputs": [
    {
     "name": "stdout",
     "output_type": "stream",
     "text": [
      "(10.2, 15.2)\n",
      "(32.4, 16.2)\n",
      "(40.2, 20.2)\n"
     ]
    }
   ],
   "source": [
    "for eleman in kordinatlistesi:\n",
    "    print(eleman)"
   ]
  },
  {
   "cell_type": "code",
   "execution_count": 84,
   "id": "1b88243a",
   "metadata": {},
   "outputs": [
    {
     "name": "stdout",
     "output_type": "stream",
     "text": [
      "10.2\n",
      "32.4\n",
      "40.2\n"
     ]
    }
   ],
   "source": [
    "for(x,y) in kordinatlistesi:\n",
    "    print(x)"
   ]
  },
  {
   "cell_type": "code",
   "execution_count": 78,
   "id": "7cd6858f",
   "metadata": {},
   "outputs": [],
   "source": [
    "benimgariplistem=[(1,2,3),(4,5,6),(7,8,9)]"
   ]
  },
  {
   "cell_type": "code",
   "execution_count": 79,
   "id": "d0a68367",
   "metadata": {},
   "outputs": [
    {
     "name": "stdout",
     "output_type": "stream",
     "text": [
      "3\n",
      "6\n",
      "9\n"
     ]
    }
   ],
   "source": [
    "for (x,y,z) in benimgariplistem:\n",
    "    print(z)"
   ]
  },
  {
   "cell_type": "code",
   "execution_count": 86,
   "id": "c8685d09",
   "metadata": {},
   "outputs": [],
   "source": [
    "benimsozluk={\"muz\":150, \"portakal\":250, \"elma\":400}"
   ]
  },
  {
   "cell_type": "code",
   "execution_count": 88,
   "id": "6de5c1af",
   "metadata": {},
   "outputs": [
    {
     "name": "stdout",
     "output_type": "stream",
     "text": [
      "150\n",
      "250\n",
      "400\n"
     ]
    }
   ],
   "source": [
    "for (anahtar,deger) in benimsozluk.items():\n",
    "    print(deger)"
   ]
  },
  {
   "cell_type": "code",
   "execution_count": 3,
   "id": "5ce787a3",
   "metadata": {},
   "outputs": [
    {
     "data": {
      "text/plain": [
       "2"
      ]
     },
     "execution_count": 3,
     "metadata": {},
     "output_type": "execute_result"
    }
   ],
   "source": [
    "5//2"
   ]
  },
  {
   "cell_type": "code",
   "execution_count": 4,
   "id": "730781e6",
   "metadata": {},
   "outputs": [
    {
     "data": {
      "text/plain": [
       "2.5"
      ]
     },
     "execution_count": 4,
     "metadata": {},
     "output_type": "execute_result"
    }
   ],
   "source": [
    "5/2"
   ]
  },
  {
   "cell_type": "code",
   "execution_count": 5,
   "id": "ff8fb0b3",
   "metadata": {},
   "outputs": [
    {
     "data": {
      "text/plain": [
       "2.5"
      ]
     },
     "execution_count": 5,
     "metadata": {},
     "output_type": "execute_result"
    }
   ],
   "source": [
    "5.0/2"
   ]
  },
  {
   "cell_type": "code",
   "execution_count": 6,
   "id": "3181424c",
   "metadata": {},
   "outputs": [
    {
     "data": {
      "text/plain": [
       "2.5"
      ]
     },
     "execution_count": 6,
     "metadata": {},
     "output_type": "execute_result"
    }
   ],
   "source": [
    "5/2.0"
   ]
  },
  {
   "cell_type": "code",
   "execution_count": 7,
   "id": "c68b29f3",
   "metadata": {},
   "outputs": [
    {
     "data": {
      "text/plain": [
       "1"
      ]
     },
     "execution_count": 7,
     "metadata": {},
     "output_type": "execute_result"
    }
   ],
   "source": [
    "5%2"
   ]
  },
  {
   "cell_type": "code",
   "execution_count": null,
   "id": "e4d00388",
   "metadata": {},
   "outputs": [],
   "source": []
  }
 ],
 "metadata": {
  "kernelspec": {
   "display_name": "Python 3 (ipykernel)",
   "language": "python",
   "name": "python3"
  },
  "language_info": {
   "codemirror_mode": {
    "name": "ipython",
    "version": 3
   },
   "file_extension": ".py",
   "mimetype": "text/x-python",
   "name": "python",
   "nbconvert_exporter": "python",
   "pygments_lexer": "ipython3",
   "version": "3.8.9"
  }
 },
 "nbformat": 4,
 "nbformat_minor": 5
}
