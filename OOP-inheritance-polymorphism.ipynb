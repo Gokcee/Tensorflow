{
 "cells": [
  {
   "cell_type": "markdown",
   "id": "37331606",
   "metadata": {},
   "source": [
    "# instance & attribute"
   ]
  },
  {
   "cell_type": "code",
   "execution_count": 1,
   "id": "03d0aa91",
   "metadata": {},
   "outputs": [],
   "source": [
    "superkahramanadı=\"Superman\"\n",
    "superkahramayası=30\n",
    "superkahramanmeslegi=\"Gazeteci\""
   ]
  },
  {
   "cell_type": "code",
   "execution_count": 2,
   "id": "63b36dbf",
   "metadata": {},
   "outputs": [],
   "source": [
    "ikincisuparkahramaadı=\"Batman\""
   ]
  },
  {
   "cell_type": "code",
   "execution_count": 39,
   "id": "9ee689e3",
   "metadata": {},
   "outputs": [],
   "source": [
    "class SuperKahraman():\n",
    "    \n",
    "    ozelguc=\"Gorunmezlik\"\n",
    "    \n",
    "    def __init__(self,isiminput,yasinput,meslekinput):\n",
    "        print(\"init çağrıldı\")\n",
    "        self.isim=isiminput\n",
    "        self.yas=yasinput\n",
    "        self.meslek=meslekinput"
   ]
  },
  {
   "cell_type": "code",
   "execution_count": 40,
   "id": "5f0ab886",
   "metadata": {},
   "outputs": [
    {
     "name": "stdout",
     "output_type": "stream",
     "text": [
      "init çağrıldı\n"
     ]
    }
   ],
   "source": [
    "superman=SuperKahraman(\"Superman\",30,\"Gazeteci\")"
   ]
  },
  {
   "cell_type": "code",
   "execution_count": 41,
   "id": "2feca4ce",
   "metadata": {},
   "outputs": [],
   "source": [
    "superman.isim=\"Clark Kent\""
   ]
  },
  {
   "cell_type": "code",
   "execution_count": 42,
   "id": "d8fdb4d7",
   "metadata": {},
   "outputs": [
    {
     "data": {
      "text/plain": [
       "'Clark Kent'"
      ]
     },
     "execution_count": 42,
     "metadata": {},
     "output_type": "execute_result"
    }
   ],
   "source": [
    "superman.isim"
   ]
  },
  {
   "cell_type": "code",
   "execution_count": 43,
   "id": "c4cbe5c5",
   "metadata": {},
   "outputs": [
    {
     "data": {
      "text/plain": [
       "30"
      ]
     },
     "execution_count": 43,
     "metadata": {},
     "output_type": "execute_result"
    }
   ],
   "source": [
    "superman.yas"
   ]
  },
  {
   "cell_type": "code",
   "execution_count": 44,
   "id": "6e09e42d",
   "metadata": {},
   "outputs": [],
   "source": [
    "superman.ozelguc=\"Ucabilirlik\""
   ]
  },
  {
   "cell_type": "code",
   "execution_count": 45,
   "id": "44e132bc",
   "metadata": {},
   "outputs": [
    {
     "data": {
      "text/plain": [
       "'Ucabilirlik'"
      ]
     },
     "execution_count": 45,
     "metadata": {},
     "output_type": "execute_result"
    }
   ],
   "source": [
    "superman.ozelguc"
   ]
  },
  {
   "cell_type": "code",
   "execution_count": 56,
   "id": "f7460f99",
   "metadata": {},
   "outputs": [],
   "source": [
    "class SuperKahraman():\n",
    "    \n",
    "    ozelguc=\"Gorunmezlik\"\n",
    "    \n",
    "    def __init__(self,isim,yas,meslek):\n",
    "        print(\"init çağrıldı\")\n",
    "        self.isim=isim\n",
    "        self.yas=yas\n",
    "        self.meslek=meslek\n",
    "        \n",
    "    def ornekmethod(self):\n",
    "        print(f\"ben süperkahramanım ve meslegim: {self.meslek}\")"
   ]
  },
  {
   "cell_type": "code",
   "execution_count": 58,
   "id": "938a632c",
   "metadata": {},
   "outputs": [
    {
     "name": "stdout",
     "output_type": "stream",
     "text": [
      "init çağrıldı\n"
     ]
    }
   ],
   "source": [
    "superman=SuperKahraman(\"Superman\", 30, \"Gazeteci\")"
   ]
  },
  {
   "cell_type": "code",
   "execution_count": 59,
   "id": "b1a6d8e9",
   "metadata": {},
   "outputs": [
    {
     "name": "stdout",
     "output_type": "stream",
     "text": [
      "ben süperkahramanım ve meslegim: Gazeteci\n"
     ]
    }
   ],
   "source": [
    "superman.ornekmethod()"
   ]
  },
  {
   "cell_type": "code",
   "execution_count": 71,
   "id": "6fc4f098",
   "metadata": {},
   "outputs": [],
   "source": [
    "class Kopek():\n",
    "    \n",
    "    def __init__(self,yas=5):\n",
    "        self.yas=yas"
   ]
  },
  {
   "cell_type": "code",
   "execution_count": 77,
   "id": "81096548",
   "metadata": {},
   "outputs": [],
   "source": [
    "benimkopek=Kopek(3)"
   ]
  },
  {
   "cell_type": "code",
   "execution_count": 78,
   "id": "d7263541",
   "metadata": {},
   "outputs": [
    {
     "data": {
      "text/plain": [
       "3"
      ]
     },
     "execution_count": 78,
     "metadata": {},
     "output_type": "execute_result"
    }
   ],
   "source": [
    "benimkopek.yas"
   ]
  },
  {
   "cell_type": "code",
   "execution_count": 81,
   "id": "358b6f3a",
   "metadata": {},
   "outputs": [],
   "source": [
    "## Yukarıdaki örnekte köpek yaşı için \"3\" değeri atanmasaydı\n",
    "##classtaki default değer yani \"5\" değeri atanırdı. "
   ]
  },
  {
   "cell_type": "code",
   "execution_count": 98,
   "id": "99949175",
   "metadata": {},
   "outputs": [],
   "source": [
    "class Kopek():\n",
    "    \n",
    "    yilcarpani=7\n",
    "    \n",
    "    def __init__(self,yas):\n",
    "        self.yas=yas\n",
    "        \n",
    "    def insanyasinihesapla(self):\n",
    "        return self.yas*self.yilcarpani"
   ]
  },
  {
   "cell_type": "code",
   "execution_count": 99,
   "id": "c1d4115c",
   "metadata": {},
   "outputs": [],
   "source": [
    "benimkopek=Kopek(3)"
   ]
  },
  {
   "cell_type": "code",
   "execution_count": 100,
   "id": "fe04b1c8",
   "metadata": {},
   "outputs": [
    {
     "data": {
      "text/plain": [
       "3"
      ]
     },
     "execution_count": 100,
     "metadata": {},
     "output_type": "execute_result"
    }
   ],
   "source": [
    "benimkopek.yas"
   ]
  },
  {
   "cell_type": "code",
   "execution_count": 101,
   "id": "c0ec406d",
   "metadata": {},
   "outputs": [
    {
     "data": {
      "text/plain": [
       "21"
      ]
     },
     "execution_count": 101,
     "metadata": {},
     "output_type": "execute_result"
    }
   ],
   "source": [
    "benimkopek.insanyasinihesapla()"
   ]
  },
  {
   "cell_type": "markdown",
   "id": "2a2610a9",
   "metadata": {},
   "source": [
    "# inheritance"
   ]
  },
  {
   "cell_type": "code",
   "execution_count": 103,
   "id": "b6baa3d2",
   "metadata": {},
   "outputs": [],
   "source": [
    "class Hayvan():\n",
    "    def __init__(self):\n",
    "        print(\"hayvan sınıfı init çağrıldı\")\n",
    "    \n",
    "    def method1(self):\n",
    "        print(\"hayvan sınıfı method1 çağrıldı\")\n",
    "    \n",
    "    def method2(self):\n",
    "        print(\"hayvan sınıfı method2 çağrıldı\")\n",
    "        "
   ]
  },
  {
   "cell_type": "code",
   "execution_count": 104,
   "id": "04349f5d",
   "metadata": {},
   "outputs": [
    {
     "name": "stdout",
     "output_type": "stream",
     "text": [
      "hayvan sınıfı init çağrıldı\n"
     ]
    }
   ],
   "source": [
    "benimhayvanim=Hayvan()"
   ]
  },
  {
   "cell_type": "code",
   "execution_count": 105,
   "id": "386b5d76",
   "metadata": {},
   "outputs": [
    {
     "name": "stdout",
     "output_type": "stream",
     "text": [
      "hayvan sınıfı method1 çağrıldı\n"
     ]
    }
   ],
   "source": [
    "benimhayvanim.method1()"
   ]
  },
  {
   "cell_type": "code",
   "execution_count": 106,
   "id": "430aeb69",
   "metadata": {},
   "outputs": [
    {
     "name": "stdout",
     "output_type": "stream",
     "text": [
      "hayvan sınıfı method2 çağrıldı\n"
     ]
    }
   ],
   "source": [
    "benimhayvanim.method2()"
   ]
  },
  {
   "cell_type": "code",
   "execution_count": 107,
   "id": "f558d526",
   "metadata": {},
   "outputs": [],
   "source": [
    "class Kedi(Hayvan):\n",
    "    def __init__(self):\n",
    "        Hayvan.__init__(self)\n",
    "        print(\"kedi sınıfı init çağrıldı\")\n",
    "        \n",
    "    def miyavla(self):\n",
    "        print(\"miyav\")\n",
    "    "
   ]
  },
  {
   "cell_type": "code",
   "execution_count": 108,
   "id": "f03488d8",
   "metadata": {},
   "outputs": [
    {
     "name": "stdout",
     "output_type": "stream",
     "text": [
      "hayvan sınıfı init çağrıldı\n",
      "kedi sınıfı init çağrıldı\n"
     ]
    }
   ],
   "source": [
    "benimKedi=Kedi()"
   ]
  },
  {
   "cell_type": "code",
   "execution_count": 110,
   "id": "057f6bc4",
   "metadata": {},
   "outputs": [
    {
     "name": "stdout",
     "output_type": "stream",
     "text": [
      "hayvan sınıfı method1 çağrıldı\n"
     ]
    }
   ],
   "source": [
    "benimKedi.method1()"
   ]
  },
  {
   "cell_type": "code",
   "execution_count": 112,
   "id": "4ec7139e",
   "metadata": {},
   "outputs": [
    {
     "name": "stdout",
     "output_type": "stream",
     "text": [
      "miyav\n"
     ]
    }
   ],
   "source": [
    "benimKedi.miyavla()"
   ]
  },
  {
   "cell_type": "code",
   "execution_count": 113,
   "id": "27d8ba86",
   "metadata": {},
   "outputs": [
    {
     "name": "stdout",
     "output_type": "stream",
     "text": [
      "hayvan sınıfı init çağrıldı\n"
     ]
    }
   ],
   "source": [
    "digerhayvan=Hayvan()"
   ]
  },
  {
   "cell_type": "code",
   "execution_count": 115,
   "id": "0f543bba",
   "metadata": {},
   "outputs": [
    {
     "name": "stdout",
     "output_type": "stream",
     "text": [
      "hayvan sınıfı method1 çağrıldı\n"
     ]
    }
   ],
   "source": [
    "digerhayvan.method1()"
   ]
  },
  {
   "cell_type": "code",
   "execution_count": 116,
   "id": "49f5467d",
   "metadata": {},
   "outputs": [
    {
     "name": "stdout",
     "output_type": "stream",
     "text": [
      "hayvan sınıfı init çağrıldı\n",
      "kedi sınıfı init çağrıldı\n"
     ]
    }
   ],
   "source": [
    "digerkedi=Kedi()"
   ]
  },
  {
   "cell_type": "code",
   "execution_count": 117,
   "id": "f6443627",
   "metadata": {},
   "outputs": [
    {
     "name": "stdout",
     "output_type": "stream",
     "text": [
      "hayvan sınıfı method1 çağrıldı\n"
     ]
    }
   ],
   "source": [
    "digerkedi.method1()"
   ]
  },
  {
   "cell_type": "markdown",
   "id": "5a9b12b5",
   "metadata": {},
   "source": [
    "# Polymorphism\n",
    "\n",
    "Aynı isimdeki fonksiyonların veya methodların farklı amaçlara hizmet etmesine denir.\n"
   ]
  },
  {
   "cell_type": "markdown",
   "id": "17360e4a",
   "metadata": {},
   "source": [
    "# Polymorphism"
   ]
  },
  {
   "cell_type": "code",
   "execution_count": 135,
   "id": "bab49f00",
   "metadata": {},
   "outputs": [],
   "source": [
    "class Elma ():\n",
    "    def __init__(self,isim):\n",
    "        self.isim=isim\n",
    "        \n",
    "    def bilgiver (self):\n",
    "        return self.isim + \" 100 kaloridir \"\n"
   ]
  },
  {
   "cell_type": "code",
   "execution_count": 136,
   "id": "14acc862",
   "metadata": {},
   "outputs": [],
   "source": [
    "class Muz ():\n",
    "    def __init__(self,isim):\n",
    "        self.isim=isim\n",
    "        \n",
    "    def bilgiver (self):\n",
    "        return self.isim + \" 150 kaloridir \""
   ]
  },
  {
   "cell_type": "code",
   "execution_count": 137,
   "id": "7d567fae",
   "metadata": {},
   "outputs": [],
   "source": [
    "elma=Elma(\"elma\")"
   ]
  },
  {
   "cell_type": "code",
   "execution_count": 138,
   "id": "a999bcff",
   "metadata": {},
   "outputs": [
    {
     "data": {
      "text/plain": [
       "'elma 100 kaloridir '"
      ]
     },
     "execution_count": 138,
     "metadata": {},
     "output_type": "execute_result"
    }
   ],
   "source": [
    "elma.bilgiver()"
   ]
  },
  {
   "cell_type": "code",
   "execution_count": 139,
   "id": "d81c8e32",
   "metadata": {},
   "outputs": [],
   "source": [
    "muz=Muz(\"muz\")"
   ]
  },
  {
   "cell_type": "code",
   "execution_count": 140,
   "id": "dfce9871",
   "metadata": {},
   "outputs": [
    {
     "data": {
      "text/plain": [
       "'muz 150 kaloridir '"
      ]
     },
     "execution_count": 140,
     "metadata": {},
     "output_type": "execute_result"
    }
   ],
   "source": [
    "muz.bilgiver()"
   ]
  },
  {
   "cell_type": "code",
   "execution_count": 141,
   "id": "0befc4c1",
   "metadata": {},
   "outputs": [],
   "source": [
    "meyvelistesi=[elma,muz]"
   ]
  },
  {
   "cell_type": "code",
   "execution_count": 142,
   "id": "a2001776",
   "metadata": {},
   "outputs": [
    {
     "name": "stdout",
     "output_type": "stream",
     "text": [
      "elma 100 kaloridir \n",
      "muz 150 kaloridir \n"
     ]
    }
   ],
   "source": [
    "for meyve in meyvelistesi:\n",
    "    print (meyve.bilgiver())"
   ]
  },
  {
   "cell_type": "code",
   "execution_count": 143,
   "id": "600b8b1c",
   "metadata": {},
   "outputs": [],
   "source": [
    "def bilgial(meyve):\n",
    "    print(meyve.bilgiver())"
   ]
  },
  {
   "cell_type": "code",
   "execution_count": 144,
   "id": "4ad6dfcc",
   "metadata": {},
   "outputs": [
    {
     "name": "stdout",
     "output_type": "stream",
     "text": [
      "muz 150 kaloridir \n"
     ]
    }
   ],
   "source": [
    "bilgial(muz)"
   ]
  },
  {
   "cell_type": "code",
   "execution_count": 145,
   "id": "a865ade8",
   "metadata": {},
   "outputs": [
    {
     "name": "stdout",
     "output_type": "stream",
     "text": [
      "elma 100 kaloridir \n"
     ]
    }
   ],
   "source": [
    "bilgial(elma)"
   ]
  },
  {
   "cell_type": "code",
   "execution_count": null,
   "id": "bb3bd67e",
   "metadata": {},
   "outputs": [],
   "source": []
  }
 ],
 "metadata": {
  "kernelspec": {
   "display_name": "Python 3 (ipykernel)",
   "language": "python",
   "name": "python3"
  },
  "language_info": {
   "codemirror_mode": {
    "name": "ipython",
    "version": 3
   },
   "file_extension": ".py",
   "mimetype": "text/x-python",
   "name": "python",
   "nbconvert_exporter": "python",
   "pygments_lexer": "ipython3",
   "version": "3.8.9"
  }
 },
 "nbformat": 4,
 "nbformat_minor": 5
}
