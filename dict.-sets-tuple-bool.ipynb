{
 "cells": [
  {
   "cell_type": "markdown",
   "id": "d2e55c9b",
   "metadata": {},
   "source": [
    "## key-value pairing (anahtar-değer eşleşmesi )"
   ]
  },
  {
   "cell_type": "code",
   "execution_count": 4,
   "id": "52939d02",
   "metadata": {},
   "outputs": [],
   "source": [
    "benimyemeklerim=[\"elma\",\"karpuz\",\"muz\"]"
   ]
  },
  {
   "cell_type": "code",
   "execution_count": 2,
   "id": "4ab41e8b",
   "metadata": {},
   "outputs": [],
   "source": [
    "benimkalorilerim=[100,200,300]"
   ]
  },
  {
   "cell_type": "code",
   "execution_count": 5,
   "id": "5f7f5b57",
   "metadata": {},
   "outputs": [
    {
     "data": {
      "text/plain": [
       "'karpuz'"
      ]
     },
     "execution_count": 5,
     "metadata": {},
     "output_type": "execute_result"
    }
   ],
   "source": [
    "benimyemeklerim[1]"
   ]
  },
  {
   "cell_type": "code",
   "execution_count": 6,
   "id": "a8c54ac4",
   "metadata": {},
   "outputs": [
    {
     "data": {
      "text/plain": [
       "200"
      ]
     },
     "execution_count": 6,
     "metadata": {},
     "output_type": "execute_result"
    }
   ],
   "source": [
    "benimkalorilerim[1]"
   ]
  },
  {
   "cell_type": "code",
   "execution_count": null,
   "id": "ef891636",
   "metadata": {},
   "outputs": [],
   "source": [
    "##dictionary"
   ]
  },
  {
   "cell_type": "code",
   "execution_count": 11,
   "id": "668d6a4c",
   "metadata": {},
   "outputs": [],
   "source": [
    "benimsozluk={\"anahtarkelime\":\"deger\"}"
   ]
  },
  {
   "cell_type": "code",
   "execution_count": 12,
   "id": "fac17749",
   "metadata": {},
   "outputs": [
    {
     "data": {
      "text/plain": [
       "dict"
      ]
     },
     "execution_count": 12,
     "metadata": {},
     "output_type": "execute_result"
    }
   ],
   "source": [
    "type(benimsozluk)"
   ]
  },
  {
   "cell_type": "code",
   "execution_count": 13,
   "id": "19214fe6",
   "metadata": {},
   "outputs": [
    {
     "data": {
      "text/plain": [
       "'deger'"
      ]
     },
     "execution_count": 13,
     "metadata": {},
     "output_type": "execute_result"
    }
   ],
   "source": [
    "benimsozluk[\"anahtarkelime\"]"
   ]
  },
  {
   "cell_type": "code",
   "execution_count": 16,
   "id": "a031b825",
   "metadata": {},
   "outputs": [],
   "source": [
    "benimyemekkalorisozlugum={\"elma\":100,\"karpuz\":200,\"muz\":300}"
   ]
  },
  {
   "cell_type": "code",
   "execution_count": 17,
   "id": "8c0f0e11",
   "metadata": {},
   "outputs": [
    {
     "data": {
      "text/plain": [
       "300"
      ]
     },
     "execution_count": 17,
     "metadata": {},
     "output_type": "execute_result"
    }
   ],
   "source": [
    "benimyemekkalorisozlugum[\"muz\"]"
   ]
  },
  {
   "cell_type": "code",
   "execution_count": 18,
   "id": "65cd8dbe",
   "metadata": {},
   "outputs": [
    {
     "data": {
      "text/plain": [
       "{'elma': 100, 'karpuz': 200, 'muz': 300}"
      ]
     },
     "execution_count": 18,
     "metadata": {},
     "output_type": "execute_result"
    }
   ],
   "source": [
    "benimyemekkalorisozlugum"
   ]
  },
  {
   "cell_type": "code",
   "execution_count": 19,
   "id": "64bae9f8",
   "metadata": {},
   "outputs": [],
   "source": [
    "benimdegisiksozlugum={1:\"atıl\", 2:\"atlas\" }"
   ]
  },
  {
   "cell_type": "code",
   "execution_count": 21,
   "id": "9f986eb0",
   "metadata": {},
   "outputs": [
    {
     "data": {
      "text/plain": [
       "'atlas'"
      ]
     },
     "execution_count": 21,
     "metadata": {},
     "output_type": "execute_result"
    }
   ],
   "source": [
    "benimdegisiksozlugum[2]"
   ]
  },
  {
   "cell_type": "code",
   "execution_count": 26,
   "id": "785ab9a7",
   "metadata": {},
   "outputs": [],
   "source": [
    "yenidic={\"a1\":100, \"a2\":[10,20,30,40,4.5,\"atıl\"],\"a3\":{\"anahtar9\":4}}"
   ]
  },
  {
   "cell_type": "code",
   "execution_count": 27,
   "id": "820c9f1d",
   "metadata": {},
   "outputs": [
    {
     "data": {
      "text/plain": [
       "dict_keys(['a1', 'a2', 'a3'])"
      ]
     },
     "execution_count": 27,
     "metadata": {},
     "output_type": "execute_result"
    }
   ],
   "source": [
    "yenidic.keys()"
   ]
  },
  {
   "cell_type": "code",
   "execution_count": 28,
   "id": "84d7b647",
   "metadata": {},
   "outputs": [
    {
     "data": {
      "text/plain": [
       "dict_values([100, [10, 20, 30, 40, 4.5, 'atıl'], {'anahtar9': 4}])"
      ]
     },
     "execution_count": 28,
     "metadata": {},
     "output_type": "execute_result"
    }
   ],
   "source": [
    "yenidic.values()"
   ]
  },
  {
   "cell_type": "code",
   "execution_count": 49,
   "id": "ce080b70",
   "metadata": {},
   "outputs": [],
   "source": [
    "yeni=yenidic[\"a2\"][-1]"
   ]
  },
  {
   "cell_type": "code",
   "execution_count": 50,
   "id": "a34c27b3",
   "metadata": {},
   "outputs": [
    {
     "data": {
      "text/plain": [
       "'atıl'"
      ]
     },
     "execution_count": 50,
     "metadata": {},
     "output_type": "execute_result"
    }
   ],
   "source": [
    "yeni"
   ]
  },
  {
   "cell_type": "code",
   "execution_count": 60,
   "id": "27949399",
   "metadata": {},
   "outputs": [],
   "source": [
    "yeni1=yenidic[\"a3\"][\"anahtar9\"]"
   ]
  },
  {
   "cell_type": "code",
   "execution_count": 61,
   "id": "c19ad535",
   "metadata": {},
   "outputs": [
    {
     "data": {
      "text/plain": [
       "4"
      ]
     },
     "execution_count": 61,
     "metadata": {},
     "output_type": "execute_result"
    }
   ],
   "source": [
    "yeni1"
   ]
  },
  {
   "cell_type": "markdown",
   "id": "0672a098",
   "metadata": {},
   "source": [
    "## setler\n",
    "Setler listeler gibidir ancak aynı eleman 1 den fazla kez yazılamaz"
   ]
  },
  {
   "cell_type": "code",
   "execution_count": 69,
   "id": "c3c25a9a",
   "metadata": {},
   "outputs": [],
   "source": [
    "benimlistem=[1,2,3,1,2,3]"
   ]
  },
  {
   "cell_type": "code",
   "execution_count": 70,
   "id": "a2594ab8",
   "metadata": {},
   "outputs": [
    {
     "data": {
      "text/plain": [
       "list"
      ]
     },
     "execution_count": 70,
     "metadata": {},
     "output_type": "execute_result"
    }
   ],
   "source": [
    "type(benimlistem)"
   ]
  },
  {
   "cell_type": "code",
   "execution_count": 74,
   "id": "13cdadd3",
   "metadata": {},
   "outputs": [],
   "source": [
    "benimlistesetim=set(benimlistem)"
   ]
  },
  {
   "cell_type": "code",
   "execution_count": 77,
   "id": "ed1dba74",
   "metadata": {},
   "outputs": [
    {
     "data": {
      "text/plain": [
       "set"
      ]
     },
     "execution_count": 77,
     "metadata": {},
     "output_type": "execute_result"
    }
   ],
   "source": [
    "type(benimlistesetim)"
   ]
  },
  {
   "cell_type": "code",
   "execution_count": 79,
   "id": "40b98523",
   "metadata": {},
   "outputs": [
    {
     "data": {
      "text/plain": [
       "{1, 2, 3}"
      ]
     },
     "execution_count": 79,
     "metadata": {},
     "output_type": "execute_result"
    }
   ],
   "source": [
    "benimlistesetim"
   ]
  },
  {
   "cell_type": "code",
   "execution_count": 80,
   "id": "a4fca2c0",
   "metadata": {},
   "outputs": [],
   "source": [
    "benimset={'a','b','c'}"
   ]
  },
  {
   "cell_type": "code",
   "execution_count": 81,
   "id": "79f38b7d",
   "metadata": {},
   "outputs": [
    {
     "data": {
      "text/plain": [
       "set"
      ]
     },
     "execution_count": 81,
     "metadata": {},
     "output_type": "execute_result"
    }
   ],
   "source": [
    "type(benimset)"
   ]
  },
  {
   "cell_type": "code",
   "execution_count": 82,
   "id": "725c3850",
   "metadata": {},
   "outputs": [
    {
     "data": {
      "text/plain": [
       "{'a', 'b', 'c'}"
      ]
     },
     "execution_count": 82,
     "metadata": {},
     "output_type": "execute_result"
    }
   ],
   "source": [
    "benimset"
   ]
  },
  {
   "cell_type": "code",
   "execution_count": 83,
   "id": "d48266f3",
   "metadata": {},
   "outputs": [],
   "source": [
    "bosliste=[]"
   ]
  },
  {
   "cell_type": "code",
   "execution_count": 84,
   "id": "9abc4b11",
   "metadata": {},
   "outputs": [
    {
     "data": {
      "text/plain": [
       "[]"
      ]
     },
     "execution_count": 84,
     "metadata": {},
     "output_type": "execute_result"
    }
   ],
   "source": [
    "bosliste"
   ]
  },
  {
   "cell_type": "code",
   "execution_count": 85,
   "id": "def3c7fd",
   "metadata": {},
   "outputs": [],
   "source": [
    "bosliste.append(1)"
   ]
  },
  {
   "cell_type": "code",
   "execution_count": 86,
   "id": "00121daa",
   "metadata": {},
   "outputs": [
    {
     "data": {
      "text/plain": [
       "[1]"
      ]
     },
     "execution_count": 86,
     "metadata": {},
     "output_type": "execute_result"
    }
   ],
   "source": [
    "bosliste"
   ]
  },
  {
   "cell_type": "code",
   "execution_count": 88,
   "id": "7b7bb031",
   "metadata": {},
   "outputs": [],
   "source": [
    "bossozluk={}"
   ]
  },
  {
   "cell_type": "code",
   "execution_count": 92,
   "id": "b259dcbf",
   "metadata": {},
   "outputs": [],
   "source": [
    "bossozluk[\"anahatarkelime\"]=10"
   ]
  },
  {
   "cell_type": "code",
   "execution_count": 93,
   "id": "f1c891fc",
   "metadata": {},
   "outputs": [
    {
     "data": {
      "text/plain": [
       "{'anahatarkelime': 10}"
      ]
     },
     "execution_count": 93,
     "metadata": {},
     "output_type": "execute_result"
    }
   ],
   "source": [
    "bossozluk"
   ]
  },
  {
   "cell_type": "code",
   "execution_count": 94,
   "id": "a762eea9",
   "metadata": {},
   "outputs": [],
   "source": [
    "benimbossetim= set()"
   ]
  },
  {
   "cell_type": "code",
   "execution_count": 95,
   "id": "e275a7bb",
   "metadata": {},
   "outputs": [
    {
     "data": {
      "text/plain": [
       "set()"
      ]
     },
     "execution_count": 95,
     "metadata": {},
     "output_type": "execute_result"
    }
   ],
   "source": [
    "benimbossetim"
   ]
  },
  {
   "cell_type": "code",
   "execution_count": 96,
   "id": "6af117d7",
   "metadata": {},
   "outputs": [],
   "source": [
    "benimbossetim.add(10)"
   ]
  },
  {
   "cell_type": "code",
   "execution_count": 97,
   "id": "f1b4b75c",
   "metadata": {},
   "outputs": [],
   "source": [
    "benimbossetim.add(20)"
   ]
  },
  {
   "cell_type": "code",
   "execution_count": 98,
   "id": "5eeee3fe",
   "metadata": {},
   "outputs": [
    {
     "data": {
      "text/plain": [
       "{10, 20}"
      ]
     },
     "execution_count": 98,
     "metadata": {},
     "output_type": "execute_result"
    }
   ],
   "source": [
    "benimbossetim"
   ]
  },
  {
   "cell_type": "code",
   "execution_count": 99,
   "id": "f87b32d0",
   "metadata": {},
   "outputs": [],
   "source": [
    "benimboslistem=list()"
   ]
  },
  {
   "cell_type": "code",
   "execution_count": 100,
   "id": "a0dee82c",
   "metadata": {},
   "outputs": [],
   "source": [
    "benimboslistem.append(10)"
   ]
  },
  {
   "cell_type": "code",
   "execution_count": 101,
   "id": "9ebac617",
   "metadata": {},
   "outputs": [
    {
     "data": {
      "text/plain": [
       "[10]"
      ]
     },
     "execution_count": 101,
     "metadata": {},
     "output_type": "execute_result"
    }
   ],
   "source": [
    "benimboslistem"
   ]
  },
  {
   "cell_type": "code",
   "execution_count": 103,
   "id": "c963a67b",
   "metadata": {},
   "outputs": [],
   "source": [
    "benimbossozlugum=dict()"
   ]
  },
  {
   "cell_type": "code",
   "execution_count": 106,
   "id": "5641d3f7",
   "metadata": {},
   "outputs": [],
   "source": [
    "benimbossozlugum[\"key\"]=50"
   ]
  },
  {
   "cell_type": "code",
   "execution_count": 107,
   "id": "8e36f8c2",
   "metadata": {},
   "outputs": [
    {
     "data": {
      "text/plain": [
       "{'key': 50}"
      ]
     },
     "execution_count": 107,
     "metadata": {},
     "output_type": "execute_result"
    }
   ],
   "source": [
    "benimbossozlugum"
   ]
  },
  {
   "cell_type": "markdown",
   "id": "5a6335ca",
   "metadata": {},
   "source": [
    "## Tuple \n",
    "listeye çok benzer ancak değiştirilemez (immutability-mutable)"
   ]
  },
  {
   "cell_type": "code",
   "execution_count": 108,
   "id": "9b370d62",
   "metadata": {},
   "outputs": [],
   "source": [
    "benimlistem=[1,2,\"a\",4.5]"
   ]
  },
  {
   "cell_type": "code",
   "execution_count": 109,
   "id": "d5d8cdb1",
   "metadata": {},
   "outputs": [
    {
     "data": {
      "text/plain": [
       "1"
      ]
     },
     "execution_count": 109,
     "metadata": {},
     "output_type": "execute_result"
    }
   ],
   "source": [
    "benimlistem[0]"
   ]
  },
  {
   "cell_type": "code",
   "execution_count": 111,
   "id": "0e6e5f6d",
   "metadata": {},
   "outputs": [],
   "source": [
    "benimlistem[0]=100"
   ]
  },
  {
   "cell_type": "code",
   "execution_count": 113,
   "id": "bd7bfd8a",
   "metadata": {},
   "outputs": [
    {
     "data": {
      "text/plain": [
       "[100, 2, 'a', 4.5]"
      ]
     },
     "execution_count": 113,
     "metadata": {},
     "output_type": "execute_result"
    }
   ],
   "source": [
    "benimlistem"
   ]
  },
  {
   "cell_type": "code",
   "execution_count": 114,
   "id": "d161902b",
   "metadata": {},
   "outputs": [],
   "source": [
    "benimtuple=(1,2,\"a\",4.5)"
   ]
  },
  {
   "cell_type": "code",
   "execution_count": 115,
   "id": "32b453cd",
   "metadata": {},
   "outputs": [
    {
     "data": {
      "text/plain": [
       "(1, 2, 'a', 4.5)"
      ]
     },
     "execution_count": 115,
     "metadata": {},
     "output_type": "execute_result"
    }
   ],
   "source": [
    "benimtuple"
   ]
  },
  {
   "cell_type": "code",
   "execution_count": 116,
   "id": "86e6fa10",
   "metadata": {},
   "outputs": [
    {
     "data": {
      "text/plain": [
       "1"
      ]
     },
     "execution_count": 116,
     "metadata": {},
     "output_type": "execute_result"
    }
   ],
   "source": [
    "benimtuple[0]"
   ]
  },
  {
   "cell_type": "code",
   "execution_count": null,
   "id": "86b0b26e",
   "metadata": {},
   "outputs": [],
   "source": [
    "#benimtuple[2]=\"b\" --->bu işlem gerçekleşmez tuple2lar buna izin vermez"
   ]
  },
  {
   "cell_type": "code",
   "execution_count": 117,
   "id": "98eb1198",
   "metadata": {},
   "outputs": [
    {
     "data": {
      "text/plain": [
       "1"
      ]
     },
     "execution_count": 117,
     "metadata": {},
     "output_type": "execute_result"
    }
   ],
   "source": [
    "benimtuple.count(\"a\")"
   ]
  },
  {
   "cell_type": "code",
   "execution_count": 118,
   "id": "168bf786",
   "metadata": {},
   "outputs": [
    {
     "data": {
      "text/plain": [
       "3"
      ]
     },
     "execution_count": 118,
     "metadata": {},
     "output_type": "execute_result"
    }
   ],
   "source": [
    "benimtuple.index(4.5)"
   ]
  },
  {
   "cell_type": "markdown",
   "id": "a866a723",
   "metadata": {},
   "source": [
    "# boolean"
   ]
  },
  {
   "cell_type": "code",
   "execution_count": 120,
   "id": "52334aab",
   "metadata": {},
   "outputs": [],
   "source": [
    "benimboolean=True"
   ]
  },
  {
   "cell_type": "code",
   "execution_count": 121,
   "id": "32967855",
   "metadata": {},
   "outputs": [
    {
     "data": {
      "text/plain": [
       "True"
      ]
     },
     "execution_count": 121,
     "metadata": {},
     "output_type": "execute_result"
    }
   ],
   "source": [
    "benimboolean"
   ]
  },
  {
   "cell_type": "code",
   "execution_count": 122,
   "id": "ff8c05cc",
   "metadata": {},
   "outputs": [
    {
     "data": {
      "text/plain": [
       "bool"
      ]
     },
     "execution_count": 122,
     "metadata": {},
     "output_type": "execute_result"
    }
   ],
   "source": [
    "type(benimboolean)"
   ]
  },
  {
   "cell_type": "code",
   "execution_count": 123,
   "id": "f04ccaf3",
   "metadata": {},
   "outputs": [],
   "source": [
    "benimboolean=False "
   ]
  },
  {
   "cell_type": "code",
   "execution_count": 124,
   "id": "8d8e4892",
   "metadata": {},
   "outputs": [
    {
     "data": {
      "text/plain": [
       "True"
      ]
     },
     "execution_count": 124,
     "metadata": {},
     "output_type": "execute_result"
    }
   ],
   "source": [
    "10>5"
   ]
  },
  {
   "cell_type": "code",
   "execution_count": 125,
   "id": "b4b13453",
   "metadata": {},
   "outputs": [
    {
     "data": {
      "text/plain": [
       "False"
      ]
     },
     "execution_count": 125,
     "metadata": {},
     "output_type": "execute_result"
    }
   ],
   "source": [
    "10<5"
   ]
  },
  {
   "cell_type": "code",
   "execution_count": 129,
   "id": "bdebd9a7",
   "metadata": {},
   "outputs": [],
   "source": [
    "listem=[5000,10000,3000,1000,2000,4000]"
   ]
  },
  {
   "cell_type": "code",
   "execution_count": 130,
   "id": "cb1c04a7",
   "metadata": {},
   "outputs": [
    {
     "data": {
      "text/plain": [
       "6"
      ]
     },
     "execution_count": 130,
     "metadata": {},
     "output_type": "execute_result"
    }
   ],
   "source": [
    "len(listem)"
   ]
  },
  {
   "cell_type": "code",
   "execution_count": 131,
   "id": "c4577a7b",
   "metadata": {},
   "outputs": [
    {
     "data": {
      "text/plain": [
       "25000"
      ]
     },
     "execution_count": 131,
     "metadata": {},
     "output_type": "execute_result"
    }
   ],
   "source": [
    "sum(listem)"
   ]
  },
  {
   "cell_type": "code",
   "execution_count": 132,
   "id": "e86d9dbc",
   "metadata": {},
   "outputs": [],
   "source": [
    "ortalama= sum(listem)/len(listem)"
   ]
  },
  {
   "cell_type": "code",
   "execution_count": 134,
   "id": "3b4059be",
   "metadata": {},
   "outputs": [
    {
     "data": {
      "text/plain": [
       "4166.666666666667"
      ]
     },
     "execution_count": 134,
     "metadata": {},
     "output_type": "execute_result"
    }
   ],
   "source": [
    "ortalama"
   ]
  },
  {
   "cell_type": "code",
   "execution_count": 135,
   "id": "bbe7e472",
   "metadata": {},
   "outputs": [
    {
     "data": {
      "text/plain": [
       "False"
      ]
     },
     "execution_count": 135,
     "metadata": {},
     "output_type": "execute_result"
    }
   ],
   "source": [
    "listem[3]>ortalama"
   ]
  },
  {
   "cell_type": "code",
   "execution_count": 136,
   "id": "cd39be1b",
   "metadata": {},
   "outputs": [
    {
     "name": "stdout",
     "output_type": "stream",
     "text": [
      "maaş bilgisini giriniz: 60000\n"
     ]
    }
   ],
   "source": [
    "kullanıcımaas=input(\"maaş bilgisini giriniz: \")"
   ]
  },
  {
   "cell_type": "code",
   "execution_count": 138,
   "id": "5e859ec6",
   "metadata": {},
   "outputs": [],
   "source": [
    "kullanıcımaasint=int(kullanıcımaas)"
   ]
  },
  {
   "cell_type": "code",
   "execution_count": 139,
   "id": "22cb120b",
   "metadata": {},
   "outputs": [
    {
     "data": {
      "text/plain": [
       "True"
      ]
     },
     "execution_count": 139,
     "metadata": {},
     "output_type": "execute_result"
    }
   ],
   "source": [
    "kullanıcımaasint>ortalama"
   ]
  },
  {
   "cell_type": "code",
   "execution_count": null,
   "id": "54ed39c3",
   "metadata": {},
   "outputs": [],
   "source": [
    "## Kıyaslamalar"
   ]
  },
  {
   "cell_type": "code",
   "execution_count": 140,
   "id": "dd7dd41d",
   "metadata": {},
   "outputs": [],
   "source": [
    "x=10\n",
    "y=8"
   ]
  },
  {
   "cell_type": "code",
   "execution_count": 141,
   "id": "06d94bb9",
   "metadata": {},
   "outputs": [
    {
     "data": {
      "text/plain": [
       "True"
      ]
     },
     "execution_count": 141,
     "metadata": {},
     "output_type": "execute_result"
    }
   ],
   "source": [
    "x>y"
   ]
  },
  {
   "cell_type": "code",
   "execution_count": 142,
   "id": "2587e425",
   "metadata": {},
   "outputs": [
    {
     "data": {
      "text/plain": [
       "False"
      ]
     },
     "execution_count": 142,
     "metadata": {},
     "output_type": "execute_result"
    }
   ],
   "source": [
    "x<y"
   ]
  },
  {
   "cell_type": "code",
   "execution_count": 143,
   "id": "9fa6693b",
   "metadata": {},
   "outputs": [
    {
     "data": {
      "text/plain": [
       "True"
      ]
     },
     "execution_count": 143,
     "metadata": {},
     "output_type": "execute_result"
    }
   ],
   "source": [
    "x>=y"
   ]
  },
  {
   "cell_type": "code",
   "execution_count": 144,
   "id": "a0cb64fc",
   "metadata": {},
   "outputs": [
    {
     "data": {
      "text/plain": [
       "False"
      ]
     },
     "execution_count": 144,
     "metadata": {},
     "output_type": "execute_result"
    }
   ],
   "source": [
    "x<=y"
   ]
  },
  {
   "cell_type": "code",
   "execution_count": 147,
   "id": "e5aee1c2",
   "metadata": {},
   "outputs": [],
   "source": [
    "x=y"
   ]
  },
  {
   "cell_type": "code",
   "execution_count": 148,
   "id": "f45ea906",
   "metadata": {},
   "outputs": [
    {
     "data": {
      "text/plain": [
       "8"
      ]
     },
     "execution_count": 148,
     "metadata": {},
     "output_type": "execute_result"
    }
   ],
   "source": [
    "x"
   ]
  },
  {
   "cell_type": "code",
   "execution_count": 149,
   "id": "c5a6cae8",
   "metadata": {},
   "outputs": [
    {
     "data": {
      "text/plain": [
       "8"
      ]
     },
     "execution_count": 149,
     "metadata": {},
     "output_type": "execute_result"
    }
   ],
   "source": [
    "y"
   ]
  },
  {
   "cell_type": "code",
   "execution_count": 150,
   "id": "57a0b498",
   "metadata": {},
   "outputs": [],
   "source": [
    "x=10"
   ]
  },
  {
   "cell_type": "code",
   "execution_count": 151,
   "id": "203a6355",
   "metadata": {},
   "outputs": [
    {
     "data": {
      "text/plain": [
       "8"
      ]
     },
     "execution_count": 151,
     "metadata": {},
     "output_type": "execute_result"
    }
   ],
   "source": [
    "y"
   ]
  },
  {
   "cell_type": "code",
   "execution_count": 152,
   "id": "1be7434d",
   "metadata": {},
   "outputs": [
    {
     "data": {
      "text/plain": [
       "False"
      ]
     },
     "execution_count": 152,
     "metadata": {},
     "output_type": "execute_result"
    }
   ],
   "source": [
    "x==y #Eşit midir"
   ]
  },
  {
   "cell_type": "code",
   "execution_count": 153,
   "id": "639a2380",
   "metadata": {},
   "outputs": [
    {
     "data": {
      "text/plain": [
       "True"
      ]
     },
     "execution_count": 153,
     "metadata": {},
     "output_type": "execute_result"
    }
   ],
   "source": [
    "x!=y #Eşit değil"
   ]
  },
  {
   "cell_type": "code",
   "execution_count": 154,
   "id": "ab5cc780",
   "metadata": {},
   "outputs": [
    {
     "data": {
      "text/plain": [
       "True"
      ]
     },
     "execution_count": 154,
     "metadata": {},
     "output_type": "execute_result"
    }
   ],
   "source": [
    "3>1 and 3>2"
   ]
  },
  {
   "cell_type": "code",
   "execution_count": 155,
   "id": "9bcc297a",
   "metadata": {},
   "outputs": [
    {
     "data": {
      "text/plain": [
       "False"
      ]
     },
     "execution_count": 155,
     "metadata": {},
     "output_type": "execute_result"
    }
   ],
   "source": [
    "1>3 and 3>1"
   ]
  },
  {
   "cell_type": "code",
   "execution_count": 156,
   "id": "86f51b7c",
   "metadata": {},
   "outputs": [
    {
     "data": {
      "text/plain": [
       "True"
      ]
     },
     "execution_count": 156,
     "metadata": {},
     "output_type": "execute_result"
    }
   ],
   "source": [
    "1>3 or 3>1"
   ]
  },
  {
   "cell_type": "code",
   "execution_count": 157,
   "id": "33cf1c82",
   "metadata": {},
   "outputs": [
    {
     "data": {
      "text/plain": [
       "False"
      ]
     },
     "execution_count": 157,
     "metadata": {},
     "output_type": "execute_result"
    }
   ],
   "source": [
    "not 5==5"
   ]
  },
  {
   "cell_type": "code",
   "execution_count": 158,
   "id": "b6e3ddd5",
   "metadata": {},
   "outputs": [
    {
     "data": {
      "text/plain": [
       "True"
      ]
     },
     "execution_count": 158,
     "metadata": {},
     "output_type": "execute_result"
    }
   ],
   "source": [
    "5==5"
   ]
  },
  {
   "cell_type": "code",
   "execution_count": 159,
   "id": "eeb3b200",
   "metadata": {},
   "outputs": [
    {
     "data": {
      "text/plain": [
       "True"
      ]
     },
     "execution_count": 159,
     "metadata": {},
     "output_type": "execute_result"
    }
   ],
   "source": [
    "not 5==4"
   ]
  },
  {
   "cell_type": "code",
   "execution_count": null,
   "id": "0732d491",
   "metadata": {},
   "outputs": [],
   "source": []
  }
 ],
 "metadata": {
  "kernelspec": {
   "display_name": "Python 3 (ipykernel)",
   "language": "python",
   "name": "python3"
  },
  "language_info": {
   "codemirror_mode": {
    "name": "ipython",
    "version": 3
   },
   "file_extension": ".py",
   "mimetype": "text/x-python",
   "name": "python",
   "nbconvert_exporter": "python",
   "pygments_lexer": "ipython3",
   "version": "3.8.9"
  }
 },
 "nbformat": 4,
 "nbformat_minor": 5
}
