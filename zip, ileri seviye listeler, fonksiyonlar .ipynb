{
 "cells": [
  {
   "cell_type": "markdown",
   "id": "9bb51be0",
   "metadata": {},
   "source": [
    "## zip"
   ]
  },
  {
   "cell_type": "code",
   "execution_count": 4,
   "id": "02ad2c71",
   "metadata": {},
   "outputs": [],
   "source": [
    "yemeklistesi=[\"muz\",\"ananas\",\"elma\"]\n",
    "kalorilistesi=[100,200,300]\n",
    "gunlistesi=[\"pazatesi\",\"salı\",\"çarşamba\"]"
   ]
  },
  {
   "cell_type": "code",
   "execution_count": 7,
   "id": "ef2bc247",
   "metadata": {},
   "outputs": [],
   "source": [
    "ziplenmisliste=list(zip(yemeklistesi,kalorilistesi,gunlistesi))"
   ]
  },
  {
   "cell_type": "code",
   "execution_count": 8,
   "id": "4ffddacc",
   "metadata": {},
   "outputs": [
    {
     "name": "stdout",
     "output_type": "stream",
     "text": [
      "<class 'tuple'>\n",
      "<class 'tuple'>\n",
      "<class 'tuple'>\n"
     ]
    }
   ],
   "source": [
    "for eleman in ziplenmisliste:\n",
    "    print(type(eleman))"
   ]
  },
  {
   "cell_type": "code",
   "execution_count": 9,
   "id": "a1a236aa",
   "metadata": {},
   "outputs": [
    {
     "data": {
      "text/plain": [
       "[('muz', 100, 'pazatesi'), ('ananas', 200, 'salı'), ('elma', 300, 'çarşamba')]"
      ]
     },
     "execution_count": 9,
     "metadata": {},
     "output_type": "execute_result"
    }
   ],
   "source": [
    "ziplenmisliste"
   ]
  },
  {
   "cell_type": "markdown",
   "id": "df2b4b25",
   "metadata": {},
   "source": [
    "# listeler ileri seviye "
   ]
  },
  {
   "cell_type": "code",
   "execution_count": 11,
   "id": "36846413",
   "metadata": {},
   "outputs": [],
   "source": [
    "listeornegi=[]\n",
    "benimstring=\"gokce dogan\"\n",
    "\n",
    "for harf in benimstring:\n",
    "    listeornegi.append(harf)"
   ]
  },
  {
   "cell_type": "code",
   "execution_count": 12,
   "id": "c63724be",
   "metadata": {},
   "outputs": [],
   "source": [
    "yenistring=\"gokce dogan\""
   ]
  },
  {
   "cell_type": "code",
   "execution_count": 13,
   "id": "f85ff52a",
   "metadata": {},
   "outputs": [],
   "source": [
    "yenilisteornegi=[eleman for eleman in yenistring]"
   ]
  },
  {
   "cell_type": "code",
   "execution_count": 14,
   "id": "cf53da04",
   "metadata": {},
   "outputs": [
    {
     "data": {
      "text/plain": [
       "['g', 'o', 'k', 'c', 'e', ' ', 'd', 'o', 'g', 'a', 'n']"
      ]
     },
     "execution_count": 14,
     "metadata": {},
     "output_type": "execute_result"
    }
   ],
   "source": [
    "yenilisteornegi"
   ]
  },
  {
   "cell_type": "markdown",
   "id": "2422e27e",
   "metadata": {},
   "source": [
    "## Fonksiyonlar\n",
    "-- Fonksiyon yazmak için \"def\" kullanırız.\n",
    "--Bir fonksiyonu yazdığımız zaman kullanacağımız anlamına gelmez. () KOYDUĞUMUZ AN FONK. ÇALIŞIR.\n",
    "-- Kodlarımızı daha düzenli yazmaya yarar.\n",
    "-- Fonksiyonu 1 kere yazdıktan sonra istediğimiz kadar çağırabiliriz tekrar tekrar yazmaya gerek yoktur.\n",
    "-- En önemlisi: İçerlerine gir alabilip çıktı verebiliyorlar."
   ]
  },
  {
   "cell_type": "code",
   "execution_count": 17,
   "id": "b0f92eac",
   "metadata": {},
   "outputs": [],
   "source": [
    "benımadım=\"Gokce Dogan\""
   ]
  },
  {
   "cell_type": "code",
   "execution_count": 27,
   "id": "3b98c165",
   "metadata": {},
   "outputs": [
    {
     "data": {
      "text/plain": [
       "'GOKCE DOGAN'"
      ]
     },
     "execution_count": 27,
     "metadata": {},
     "output_type": "execute_result"
    }
   ],
   "source": [
    "benımadım.upper()"
   ]
  },
  {
   "cell_type": "code",
   "execution_count": 19,
   "id": "c55a8aac",
   "metadata": {},
   "outputs": [
    {
     "data": {
      "text/plain": [
       "'Gokce Dogan'"
      ]
     },
     "execution_count": 19,
     "metadata": {},
     "output_type": "execute_result"
    }
   ],
   "source": [
    "benımadım"
   ]
  },
  {
   "cell_type": "code",
   "execution_count": 20,
   "id": "9644f242",
   "metadata": {},
   "outputs": [],
   "source": [
    "benımadımbuyukharflı=benimadım.upper()"
   ]
  },
  {
   "cell_type": "code",
   "execution_count": 22,
   "id": "bb9fc115",
   "metadata": {},
   "outputs": [
    {
     "data": {
      "text/plain": [
       "'GOKCE DOGAN'"
      ]
     },
     "execution_count": 22,
     "metadata": {},
     "output_type": "execute_result"
    }
   ],
   "source": [
    "benımadımbuyukharflı"
   ]
  },
  {
   "cell_type": "code",
   "execution_count": 23,
   "id": "ebe0aa67",
   "metadata": {
    "scrolled": false
   },
   "outputs": [
    {
     "name": "stdout",
     "output_type": "stream",
     "text": [
      "Help on built-in function upper:\n",
      "\n",
      "upper() method of builtins.str instance\n",
      "    Return a copy of the string converted to uppercase.\n",
      "\n"
     ]
    }
   ],
   "source": [
    "help(benimadım.upper)"
   ]
  },
  {
   "cell_type": "code",
   "execution_count": 24,
   "id": "1be30079",
   "metadata": {},
   "outputs": [],
   "source": [
    "def ilkfonksiyon():\n",
    "        print(\"ilk fonksiyonum\")"
   ]
  },
  {
   "cell_type": "code",
   "execution_count": 25,
   "id": "e682aa39",
   "metadata": {},
   "outputs": [
    {
     "name": "stdout",
     "output_type": "stream",
     "text": [
      "ilk fonksiyonum\n"
     ]
    }
   ],
   "source": [
    "ilkfonksiyon()"
   ]
  },
  {
   "cell_type": "markdown",
   "id": "3a8ca6a5",
   "metadata": {},
   "source": [
    "## GİRDİ-ÇIKTI İŞLEMLERİ (input&return)"
   ]
  },
  {
   "cell_type": "code",
   "execution_count": 29,
   "id": "3b26bbfb",
   "metadata": {},
   "outputs": [],
   "source": [
    "def merhabadunya(yazdırılacakisim):\n",
    "    print(\"merhaba \")\n",
    "    print(yazdırılacakisim)"
   ]
  },
  {
   "cell_type": "code",
   "execution_count": 32,
   "id": "fd5224f6",
   "metadata": {},
   "outputs": [
    {
     "name": "stdout",
     "output_type": "stream",
     "text": [
      "merhaba \n",
      "Gokce\n"
     ]
    }
   ],
   "source": [
    "merhabadunya(\"Gokce\")"
   ]
  },
  {
   "cell_type": "code",
   "execution_count": 33,
   "id": "e318f184",
   "metadata": {},
   "outputs": [
    {
     "name": "stdout",
     "output_type": "stream",
     "text": [
      "merhaba \n",
      "python\n"
     ]
    }
   ],
   "source": [
    "merhabadunya(\"python\")"
   ]
  },
  {
   "cell_type": "code",
   "execution_count": 35,
   "id": "2e6fa1a9",
   "metadata": {},
   "outputs": [],
   "source": [
    "def merhaba (isim=\"gokce\"):\n",
    "    print(\"merhaba\")\n",
    "    print(isim)"
   ]
  },
  {
   "cell_type": "code",
   "execution_count": 36,
   "id": "7e0e9559",
   "metadata": {},
   "outputs": [
    {
     "name": "stdout",
     "output_type": "stream",
     "text": [
      "merhaba\n",
      "gokce\n"
     ]
    }
   ],
   "source": [
    "merhaba()"
   ]
  },
  {
   "cell_type": "code",
   "execution_count": 37,
   "id": "8ebfbf87",
   "metadata": {},
   "outputs": [
    {
     "name": "stdout",
     "output_type": "stream",
     "text": [
      "merhaba\n",
      "python\n"
     ]
    }
   ],
   "source": [
    "merhaba(\"python\")"
   ]
  },
  {
   "cell_type": "code",
   "execution_count": 38,
   "id": "12963f9b",
   "metadata": {},
   "outputs": [],
   "source": [
    "def toplama(numara1,numara2):\n",
    "    sonuc=numara1+numara2\n",
    "    print(sonuc)"
   ]
  },
  {
   "cell_type": "code",
   "execution_count": 39,
   "id": "95620a78",
   "metadata": {},
   "outputs": [
    {
     "name": "stdout",
     "output_type": "stream",
     "text": [
      "30\n"
     ]
    }
   ],
   "source": [
    "toplama(10,20)"
   ]
  },
  {
   "cell_type": "code",
   "execution_count": 40,
   "id": "4b654374",
   "metadata": {},
   "outputs": [
    {
     "name": "stdout",
     "output_type": "stream",
     "text": [
      "150\n"
     ]
    }
   ],
   "source": [
    "toplama(-200,350)"
   ]
  },
  {
   "cell_type": "code",
   "execution_count": 41,
   "id": "c8733d71",
   "metadata": {},
   "outputs": [],
   "source": [
    "def supertoplama(num1,num2,num3):\n",
    "    print(num1+num2+num3)"
   ]
  },
  {
   "cell_type": "code",
   "execution_count": 42,
   "id": "05ef1e27",
   "metadata": {},
   "outputs": [
    {
     "name": "stdout",
     "output_type": "stream",
     "text": [
      "60\n"
     ]
    }
   ],
   "source": [
    "supertoplama(10,20,30)"
   ]
  },
  {
   "cell_type": "code",
   "execution_count": 43,
   "id": "e4b36321",
   "metadata": {},
   "outputs": [
    {
     "name": "stdout",
     "output_type": "stream",
     "text": [
      "30\n"
     ]
    }
   ],
   "source": [
    "yenidegisken=toplama(10,20)"
   ]
  },
  {
   "cell_type": "code",
   "execution_count": 44,
   "id": "7f19ed1f",
   "metadata": {
    "scrolled": true
   },
   "outputs": [
    {
     "data": {
      "text/plain": [
       "NoneType"
      ]
     },
     "execution_count": 44,
     "metadata": {},
     "output_type": "execute_result"
    }
   ],
   "source": [
    "type(yenidegisken)"
   ]
  },
  {
   "cell_type": "code",
   "execution_count": 50,
   "id": "414cc531",
   "metadata": {},
   "outputs": [],
   "source": [
    "## Burada tip belirtilmedi çünkü bu yazılan tolama fonksiyonu herhangi bir değer döndürmüyor.\n",
    "##Eğer bunu alıp gerçekten bir değişken eşitlemek istersek bir döndürme işlemi yapmamız lazım \n",
    "##Bunun içn de return kullanırız."
   ]
  },
  {
   "cell_type": "code",
   "execution_count": 45,
   "id": "529d2d73",
   "metadata": {},
   "outputs": [],
   "source": [
    "def dondurmelitoplama(num1,num2):\n",
    "    return num1+num2"
   ]
  },
  {
   "cell_type": "code",
   "execution_count": 47,
   "id": "6de17f62",
   "metadata": {},
   "outputs": [],
   "source": [
    "yenisonuc=dondurmelitoplama(10,20)"
   ]
  },
  {
   "cell_type": "code",
   "execution_count": 48,
   "id": "a9435aea",
   "metadata": {},
   "outputs": [
    {
     "data": {
      "text/plain": [
       "int"
      ]
     },
     "execution_count": 48,
     "metadata": {},
     "output_type": "execute_result"
    }
   ],
   "source": [
    "type(yenisonuc)"
   ]
  },
  {
   "cell_type": "code",
   "execution_count": 52,
   "id": "fdad4356",
   "metadata": {},
   "outputs": [
    {
     "data": {
      "text/plain": [
       "30"
      ]
     },
     "execution_count": 52,
     "metadata": {},
     "output_type": "execute_result"
    }
   ],
   "source": [
    "yenisonuc"
   ]
  },
  {
   "cell_type": "code",
   "execution_count": 53,
   "id": "f45e817f",
   "metadata": {},
   "outputs": [],
   "source": [
    "def kontrolfonksiyon(s):\n",
    "    if s==\"gokce\":\n",
    "        print(\"verdiğiniz string gokce\")\n",
    "    else:\n",
    "        print(\"verdiğiniz string başka birşey\")"
   ]
  },
  {
   "cell_type": "code",
   "execution_count": 54,
   "id": "fa754494",
   "metadata": {},
   "outputs": [
    {
     "name": "stdout",
     "output_type": "stream",
     "text": [
      "verdiğiniz string gokce\n"
     ]
    }
   ],
   "source": [
    "kontrolfonksiyon(\"gokce\")"
   ]
  },
  {
   "cell_type": "code",
   "execution_count": 55,
   "id": "b6fa5d9a",
   "metadata": {},
   "outputs": [
    {
     "name": "stdout",
     "output_type": "stream",
     "text": [
      "verdiğiniz string başka birşey\n"
     ]
    }
   ],
   "source": [
    "kontrolfonksiyon(\"python\")"
   ]
  },
  {
   "cell_type": "code",
   "execution_count": 2,
   "id": "73d7ae2c",
   "metadata": {},
   "outputs": [
    {
     "name": "stdout",
     "output_type": "stream",
     "text": [
      "John\n",
      "Charles\n",
      "Chris\n"
     ]
    }
   ],
   "source": [
    "print(\"John\")\n",
    "print(\"Charles\")\n",
    "print(\"Chris\")"
   ]
  },
  {
   "cell_type": "code",
   "execution_count": 3,
   "id": "4a986aa9",
   "metadata": {},
   "outputs": [
    {
     "name": "stdout",
     "output_type": "stream",
     "text": [
      "John\\Charles\\Chris\n"
     ]
    }
   ],
   "source": [
    "print(\"John\\Charles\\Chris\")"
   ]
  },
  {
   "cell_type": "code",
   "execution_count": 4,
   "id": "b703579a",
   "metadata": {},
   "outputs": [
    {
     "name": "stdout",
     "output_type": "stream",
     "text": [
      "John\n",
      "Charles\n",
      "Chris\n"
     ]
    }
   ],
   "source": [
    "print(\"John\\nCharles\\nChris\")"
   ]
  },
  {
   "cell_type": "code",
   "execution_count": 5,
   "id": "1bade49d",
   "metadata": {},
   "outputs": [],
   "source": [
    "b=[0,1,2,3,4,5,6,7,8,9]"
   ]
  },
  {
   "cell_type": "code",
   "execution_count": 6,
   "id": "ad3c49cf",
   "metadata": {},
   "outputs": [
    {
     "name": "stdout",
     "output_type": "stream",
     "text": [
      "[0, 3, 6, 9]\n"
     ]
    }
   ],
   "source": [
    "print(b[::3])"
   ]
  },
  {
   "cell_type": "code",
   "execution_count": null,
   "id": "069cecdc",
   "metadata": {},
   "outputs": [],
   "source": []
  }
 ],
 "metadata": {
  "kernelspec": {
   "display_name": "Python 3 (ipykernel)",
   "language": "python",
   "name": "python3"
  },
  "language_info": {
   "codemirror_mode": {
    "name": "ipython",
    "version": 3
   },
   "file_extension": ".py",
   "mimetype": "text/x-python",
   "name": "python",
   "nbconvert_exporter": "python",
   "pygments_lexer": "ipython3",
   "version": "3.8.9"
  }
 },
 "nbformat": 4,
 "nbformat_minor": 5
}
