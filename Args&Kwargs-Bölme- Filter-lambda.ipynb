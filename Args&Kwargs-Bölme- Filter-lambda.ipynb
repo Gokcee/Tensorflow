{
 "cells": [
  {
   "cell_type": "markdown",
   "id": "d5c5e5f1",
   "metadata": {},
   "source": [
    "## Args&Kwargs (Argumens and Keywordargumens)"
   ]
  },
  {
   "cell_type": "code",
   "execution_count": 1,
   "id": "29ed8bc4",
   "metadata": {},
   "outputs": [],
   "source": [
    "def yenitoplama(*args):\n",
    "    return sum(args)"
   ]
  },
  {
   "cell_type": "code",
   "execution_count": 4,
   "id": "c22fdd61",
   "metadata": {},
   "outputs": [],
   "source": [
    "## *args önündeki yıldız sayesinde içerisine istediğimiz kadar eleman yazabiliriz "
   ]
  },
  {
   "cell_type": "code",
   "execution_count": 5,
   "id": "09127380",
   "metadata": {},
   "outputs": [
    {
     "data": {
      "text/plain": [
       "210"
      ]
     },
     "execution_count": 5,
     "metadata": {},
     "output_type": "execute_result"
    }
   ],
   "source": [
    "yenitoplama(10,20,30,40,50,60)"
   ]
  },
  {
   "cell_type": "code",
   "execution_count": 6,
   "id": "1f3b4b59",
   "metadata": {},
   "outputs": [
    {
     "data": {
      "text/plain": [
       "80"
      ]
     },
     "execution_count": 6,
     "metadata": {},
     "output_type": "execute_result"
    }
   ],
   "source": [
    "yenitoplama(10,70)"
   ]
  },
  {
   "cell_type": "code",
   "execution_count": 7,
   "id": "f2b6ba11",
   "metadata": {},
   "outputs": [],
   "source": [
    "def benimfonksiyonum(*args):\n",
    "    print(args)"
   ]
  },
  {
   "cell_type": "code",
   "execution_count": 8,
   "id": "31e7814e",
   "metadata": {},
   "outputs": [
    {
     "name": "stdout",
     "output_type": "stream",
     "text": [
      "(20, 30, 40)\n"
     ]
    },
    {
     "data": {
      "text/plain": [
       "NoneType"
      ]
     },
     "execution_count": 8,
     "metadata": {},
     "output_type": "execute_result"
    }
   ],
   "source": [
    "type(benimfonksiyonum(20,30,40))"
   ]
  },
  {
   "cell_type": "code",
   "execution_count": 10,
   "id": "8ee75b37",
   "metadata": {},
   "outputs": [],
   "source": [
    "## Yukarıda \"return\" etmediğimiz için type vermedi \n",
    "# aşağıda return olarak yazalım:"
   ]
  },
  {
   "cell_type": "code",
   "execution_count": 14,
   "id": "138fc9fc",
   "metadata": {},
   "outputs": [],
   "source": [
    "def benimfonksiyonum(*args):\n",
    "    return(args)"
   ]
  },
  {
   "cell_type": "code",
   "execution_count": 15,
   "id": "b3568177",
   "metadata": {},
   "outputs": [
    {
     "data": {
      "text/plain": [
       "tuple"
      ]
     },
     "execution_count": 15,
     "metadata": {},
     "output_type": "execute_result"
    }
   ],
   "source": [
    "type(benimfonksiyonum(20,30,40))"
   ]
  },
  {
   "cell_type": "code",
   "execution_count": 16,
   "id": "aefc737c",
   "metadata": {},
   "outputs": [],
   "source": [
    "def ornekfonksiyon(**kwargs):\n",
    "    print(kwargs)"
   ]
  },
  {
   "cell_type": "code",
   "execution_count": 18,
   "id": "b7f4267d",
   "metadata": {},
   "outputs": [
    {
     "name": "stdout",
     "output_type": "stream",
     "text": [
      "{'muz': 100, 'elma': 200, 'ananas': 300}\n"
     ]
    },
    {
     "data": {
      "text/plain": [
       "NoneType"
      ]
     },
     "execution_count": 18,
     "metadata": {},
     "output_type": "execute_result"
    }
   ],
   "source": [
    "type(ornekfonksiyon(muz=100, elma=200, ananas=300))"
   ]
  },
  {
   "cell_type": "code",
   "execution_count": 19,
   "id": "83b60298",
   "metadata": {},
   "outputs": [],
   "source": [
    "## Yukarıda \"return\" etmediğimiz için type vermedi \n",
    "# aşağıda return olarak yazalım:"
   ]
  },
  {
   "cell_type": "code",
   "execution_count": 20,
   "id": "6aafb534",
   "metadata": {},
   "outputs": [],
   "source": [
    "def ornekfonksiyon(**kwargs):\n",
    "    return(kwargs)"
   ]
  },
  {
   "cell_type": "code",
   "execution_count": 21,
   "id": "b33c2aa3",
   "metadata": {},
   "outputs": [
    {
     "data": {
      "text/plain": [
       "dict"
      ]
     },
     "execution_count": 21,
     "metadata": {},
     "output_type": "execute_result"
    }
   ],
   "source": [
    "type(ornekfonksiyon(muz=100, elma=200, ananas=300))"
   ]
  },
  {
   "cell_type": "code",
   "execution_count": 22,
   "id": "d3a9f74b",
   "metadata": {},
   "outputs": [],
   "source": [
    "def keywordkontrolu(**kwargs):\n",
    "    if \"gokce\" in kwargs:\n",
    "        print(\"gokce var\")\n",
    "    else:\n",
    "        print(\"gokce yok\")"
   ]
  },
  {
   "cell_type": "code",
   "execution_count": 23,
   "id": "d4d3789c",
   "metadata": {},
   "outputs": [
    {
     "name": "stdout",
     "output_type": "stream",
     "text": [
      "gokce var\n"
     ]
    }
   ],
   "source": [
    "keywordkontrolu(gokce=70, zeynep=50, mehmet=40)"
   ]
  },
  {
   "cell_type": "code",
   "execution_count": 24,
   "id": "d15f2707",
   "metadata": {},
   "outputs": [],
   "source": [
    "def bolmeislemi(numara):\n",
    "    return numara/2"
   ]
  },
  {
   "cell_type": "code",
   "execution_count": 25,
   "id": "3e6da218",
   "metadata": {},
   "outputs": [
    {
     "data": {
      "text/plain": [
       "10.0"
      ]
     },
     "execution_count": 25,
     "metadata": {},
     "output_type": "execute_result"
    }
   ],
   "source": [
    "bolmeislemi(20)"
   ]
  },
  {
   "cell_type": "code",
   "execution_count": 26,
   "id": "53a72de2",
   "metadata": {},
   "outputs": [],
   "source": [
    "benimlistem=[1,2,3,4,5,6,7,8,9,10]"
   ]
  },
  {
   "cell_type": "code",
   "execution_count": 27,
   "id": "34ccb7f2",
   "metadata": {},
   "outputs": [],
   "source": [
    "yeniliste=[]\n",
    "for eleman in benimlistem:\n",
    "    yeniliste.append(bolmeislemi(eleman))"
   ]
  },
  {
   "cell_type": "code",
   "execution_count": 28,
   "id": "45c9ccf7",
   "metadata": {},
   "outputs": [
    {
     "data": {
      "text/plain": [
       "[0.5, 1.0, 1.5, 2.0, 2.5, 3.0, 3.5, 4.0, 4.5, 5.0]"
      ]
     },
     "execution_count": 28,
     "metadata": {},
     "output_type": "execute_result"
    }
   ],
   "source": [
    "yeniliste"
   ]
  },
  {
   "cell_type": "markdown",
   "id": "c0a5b640",
   "metadata": {},
   "source": [
    "## Map "
   ]
  },
  {
   "cell_type": "code",
   "execution_count": 30,
   "id": "b5bfcf03",
   "metadata": {},
   "outputs": [
    {
     "data": {
      "text/plain": [
       "[0.5, 1.0, 1.5, 2.0, 2.5, 3.0, 3.5, 4.0, 4.5, 5.0]"
      ]
     },
     "execution_count": 30,
     "metadata": {},
     "output_type": "execute_result"
    }
   ],
   "source": [
    "list(map(bolmeislemi, benimlistem))"
   ]
  },
  {
   "cell_type": "code",
   "execution_count": 36,
   "id": "5c4523db",
   "metadata": {},
   "outputs": [],
   "source": [
    "def kontrolfonksiyonu(string):\n",
    "    return \"a\"in string"
   ]
  },
  {
   "cell_type": "code",
   "execution_count": 32,
   "id": "c9a17cca",
   "metadata": {},
   "outputs": [
    {
     "data": {
      "text/plain": [
       "True"
      ]
     },
     "execution_count": 32,
     "metadata": {},
     "output_type": "execute_result"
    }
   ],
   "source": [
    "kontrolfonksiyonu(\"gokce\")"
   ]
  },
  {
   "cell_type": "code",
   "execution_count": 33,
   "id": "ad19ebf0",
   "metadata": {},
   "outputs": [
    {
     "data": {
      "text/plain": [
       "False"
      ]
     },
     "execution_count": 33,
     "metadata": {},
     "output_type": "execute_result"
    }
   ],
   "source": [
    "kontrolfonksiyonu(\"mehmet\")"
   ]
  },
  {
   "cell_type": "code",
   "execution_count": 34,
   "id": "d28fcec9",
   "metadata": {},
   "outputs": [],
   "source": [
    "stringlistesi=[\"atıl\", \"samancoğlu\", \"atlas\", \"zeynep\", \"mehmet\",\"ahmet\",\"levent\"]"
   ]
  },
  {
   "cell_type": "code",
   "execution_count": 37,
   "id": "af9a3ffb",
   "metadata": {},
   "outputs": [
    {
     "data": {
      "text/plain": [
       "[True, True, True, False, False, True, False]"
      ]
     },
     "execution_count": 37,
     "metadata": {},
     "output_type": "execute_result"
    }
   ],
   "source": [
    "list(map(kontrolfonksiyonu,stringlistesi))"
   ]
  },
  {
   "cell_type": "code",
   "execution_count": 38,
   "id": "ed53af4a",
   "metadata": {},
   "outputs": [],
   "source": [
    "sonuclistesi=list(map(kontrolfonksiyonu,stringlistesi))"
   ]
  },
  {
   "cell_type": "code",
   "execution_count": 39,
   "id": "0ef5647f",
   "metadata": {},
   "outputs": [
    {
     "data": {
      "text/plain": [
       "[True, True, True, False, False, True, False]"
      ]
     },
     "execution_count": 39,
     "metadata": {},
     "output_type": "execute_result"
    }
   ],
   "source": [
    "sonuclistesi"
   ]
  },
  {
   "cell_type": "code",
   "execution_count": 42,
   "id": "8cadd8dc",
   "metadata": {},
   "outputs": [
    {
     "data": {
      "text/plain": [
       "4"
      ]
     },
     "execution_count": 42,
     "metadata": {},
     "output_type": "execute_result"
    }
   ],
   "source": [
    "sonuclistesi.count(True)"
   ]
  },
  {
   "cell_type": "markdown",
   "id": "fd654eab",
   "metadata": {},
   "source": [
    "## Filter"
   ]
  },
  {
   "cell_type": "code",
   "execution_count": 44,
   "id": "2c099f71",
   "metadata": {},
   "outputs": [
    {
     "data": {
      "text/plain": [
       "['atıl', 'samancoğlu', 'atlas', 'ahmet']"
      ]
     },
     "execution_count": 44,
     "metadata": {},
     "output_type": "execute_result"
    }
   ],
   "source": [
    "list(filter(kontrolfonksiyonu,stringlistesi))"
   ]
  },
  {
   "cell_type": "markdown",
   "id": "ef0bd74a",
   "metadata": {},
   "source": [
    "## lambda"
   ]
  },
  {
   "cell_type": "code",
   "execution_count": 45,
   "id": "6cc00752",
   "metadata": {},
   "outputs": [],
   "source": [
    "carpma=lambda numara:numara*3"
   ]
  },
  {
   "cell_type": "code",
   "execution_count": 46,
   "id": "ab96597f",
   "metadata": {},
   "outputs": [
    {
     "data": {
      "text/plain": [
       "30"
      ]
     },
     "execution_count": 46,
     "metadata": {},
     "output_type": "execute_result"
    }
   ],
   "source": [
    "carpma(10)"
   ]
  },
  {
   "cell_type": "code",
   "execution_count": 47,
   "id": "97f4aba8",
   "metadata": {},
   "outputs": [],
   "source": [
    "orneklistesi=[10,20,30]"
   ]
  },
  {
   "cell_type": "code",
   "execution_count": 48,
   "id": "be1b5c10",
   "metadata": {},
   "outputs": [
    {
     "data": {
      "text/plain": [
       "[40, 80, 120]"
      ]
     },
     "execution_count": 48,
     "metadata": {},
     "output_type": "execute_result"
    }
   ],
   "source": [
    "list(map(lambda numara:numara*4, orneklistesi))"
   ]
  },
  {
   "cell_type": "code",
   "execution_count": null,
   "id": "35196042",
   "metadata": {},
   "outputs": [],
   "source": []
  }
 ],
 "metadata": {
  "kernelspec": {
   "display_name": "Python 3 (ipykernel)",
   "language": "python",
   "name": "python3"
  },
  "language_info": {
   "codemirror_mode": {
    "name": "ipython",
    "version": 3
   },
   "file_extension": ".py",
   "mimetype": "text/x-python",
   "name": "python",
   "nbconvert_exporter": "python",
   "pygments_lexer": "ipython3",
   "version": "3.9.7"
  }
 },
 "nbformat": 4,
 "nbformat_minor": 5
}
