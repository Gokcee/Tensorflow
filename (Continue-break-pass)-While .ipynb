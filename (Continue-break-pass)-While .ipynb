{
 "cells": [
  {
   "cell_type": "code",
   "execution_count": 36,
   "id": "1a48ca12",
   "metadata": {},
   "outputs": [],
   "source": [
    "benimlistem=[5,10,15,20,25,30]"
   ]
  },
  {
   "cell_type": "code",
   "execution_count": 37,
   "id": "342a49d5",
   "metadata": {},
   "outputs": [
    {
     "data": {
      "text/plain": [
       "[5, 10, 15, 20, 25, 30]"
      ]
     },
     "execution_count": 37,
     "metadata": {},
     "output_type": "execute_result"
    }
   ],
   "source": [
    "benimlistem"
   ]
  },
  {
   "cell_type": "code",
   "execution_count": 38,
   "id": "8ea803c9",
   "metadata": {},
   "outputs": [
    {
     "name": "stdout",
     "output_type": "stream",
     "text": [
      "5\n",
      "10\n"
     ]
    }
   ],
   "source": [
    "for numara in benimlistem:\n",
    "    if numara==15:\n",
    "        break\n",
    "    print(numara)"
   ]
  },
  {
   "cell_type": "code",
   "execution_count": 39,
   "id": "11c5d37d",
   "metadata": {},
   "outputs": [
    {
     "name": "stdout",
     "output_type": "stream",
     "text": [
      "5\n",
      "10\n",
      "20\n",
      "25\n",
      "30\n"
     ]
    }
   ],
   "source": [
    "for numara in benimlistem:\n",
    "    if numara==15:\n",
    "        continue\n",
    "    print(numara)"
   ]
  },
  {
   "cell_type": "code",
   "execution_count": 40,
   "id": "91777d5b",
   "metadata": {},
   "outputs": [],
   "source": [
    "for numara in benimlistem:\n",
    "    pass  #### o ana yazacağımız birşey yok ama geçmemiz gerektiğinnde kullanırız"
   ]
  },
  {
   "cell_type": "markdown",
   "id": "0ecaa005",
   "metadata": {},
   "source": [
    "## While \n",
    "--Bir koşul tuttuğu sürece devam et "
   ]
  },
  {
   "cell_type": "code",
   "execution_count": 44,
   "id": "51f58a5d",
   "metadata": {},
   "outputs": [],
   "source": [
    "x=0"
   ]
  },
  {
   "cell_type": "code",
   "execution_count": 42,
   "id": "cb1d2d63",
   "metadata": {},
   "outputs": [
    {
     "name": "stdout",
     "output_type": "stream",
     "text": [
      "0\n",
      "1\n",
      "2\n",
      "3\n",
      "4\n",
      "5\n",
      "6\n",
      "7\n",
      "8\n",
      "9\n"
     ]
    }
   ],
   "source": [
    "while x < 10:\n",
    "    print (x)\n",
    "    x = x+1"
   ]
  },
  {
   "cell_type": "code",
   "execution_count": 45,
   "id": "2d76e119",
   "metadata": {},
   "outputs": [
    {
     "name": "stdout",
     "output_type": "stream",
     "text": [
      "0\n",
      "1\n",
      "2\n",
      "3\n",
      "4\n",
      "5\n",
      "6\n",
      "7\n",
      "8\n",
      "9\n",
      "10\n"
     ]
    }
   ],
   "source": [
    "while x <= 10:\n",
    "    print (x)\n",
    "    x = x+1"
   ]
  },
  {
   "cell_type": "code",
   "execution_count": 46,
   "id": "63a7981a",
   "metadata": {},
   "outputs": [],
   "source": [
    "benimlistem=[1,2,3,4,5]"
   ]
  },
  {
   "cell_type": "code",
   "execution_count": 47,
   "id": "943ccfc0",
   "metadata": {},
   "outputs": [
    {
     "data": {
      "text/plain": [
       "[1, 2, 3, 4, 5]"
      ]
     },
     "execution_count": 47,
     "metadata": {},
     "output_type": "execute_result"
    }
   ],
   "source": [
    "benimlistem"
   ]
  },
  {
   "cell_type": "code",
   "execution_count": 48,
   "id": "7d1938db",
   "metadata": {},
   "outputs": [
    {
     "data": {
      "text/plain": [
       "5"
      ]
     },
     "execution_count": 48,
     "metadata": {},
     "output_type": "execute_result"
    }
   ],
   "source": [
    "benimlistem.pop() ## \"pop\" son elemanı listeden çıkarır"
   ]
  },
  {
   "cell_type": "code",
   "execution_count": 49,
   "id": "694dcb5f",
   "metadata": {},
   "outputs": [
    {
     "data": {
      "text/plain": [
       "[1, 2, 3, 4]"
      ]
     },
     "execution_count": 49,
     "metadata": {},
     "output_type": "execute_result"
    }
   ],
   "source": [
    "benimlistem"
   ]
  },
  {
   "cell_type": "code",
   "execution_count": 50,
   "id": "3e13d2b7",
   "metadata": {},
   "outputs": [],
   "source": [
    "benimlistem.append(5)"
   ]
  },
  {
   "cell_type": "code",
   "execution_count": 51,
   "id": "27366a80",
   "metadata": {},
   "outputs": [
    {
     "data": {
      "text/plain": [
       "[1, 2, 3, 4, 5]"
      ]
     },
     "execution_count": 51,
     "metadata": {},
     "output_type": "execute_result"
    }
   ],
   "source": [
    "benimlistem"
   ]
  },
  {
   "cell_type": "code",
   "execution_count": 52,
   "id": "e8f86966",
   "metadata": {},
   "outputs": [
    {
     "data": {
      "text/plain": [
       "True"
      ]
     },
     "execution_count": 52,
     "metadata": {},
     "output_type": "execute_result"
    }
   ],
   "source": [
    "3 in benimlistem "
   ]
  },
  {
   "cell_type": "code",
   "execution_count": 54,
   "id": "f51e230d",
   "metadata": {},
   "outputs": [
    {
     "name": "stdout",
     "output_type": "stream",
     "text": [
      "3 hala listemin içerisinde\n",
      "3 hala listemin içerisinde\n",
      "3 hala listemin içerisinde\n"
     ]
    }
   ],
   "source": [
    "while 3 in benimlistem:\n",
    "    print(\"3 hala listemin içerisinde\")\n",
    "    benimlistem.pop()\n",
    "    "
   ]
  },
  {
   "cell_type": "code",
   "execution_count": 55,
   "id": "7f4b9624",
   "metadata": {},
   "outputs": [],
   "source": [
    "numara=0"
   ]
  },
  {
   "cell_type": "code",
   "execution_count": 56,
   "id": "5769751c",
   "metadata": {},
   "outputs": [
    {
     "name": "stdout",
     "output_type": "stream",
     "text": [
      "0\n",
      "1\n",
      "2\n",
      "3\n"
     ]
    }
   ],
   "source": [
    "while numara<5:\n",
    "    if numara ==4:\n",
    "        break\n",
    "    print(numara)\n",
    "    numara=numara+1\n",
    "    "
   ]
  },
  {
   "cell_type": "code",
   "execution_count": 67,
   "id": "93194972",
   "metadata": {},
   "outputs": [
    {
     "name": "stdout",
     "output_type": "stream",
     "text": [
      "yenidegisken'in güncel degeri: 0\n",
      "yenidegisken'in güncel degeri: 1\n",
      "yenidegisken'in güncel degeri: 2\n",
      "yenidegisken'in güncel degeri: 3\n",
      "yenidegisken'in güncel degeri: 4\n",
      "yenidegisken'in güncel degeri: 5\n",
      "yenidegisken'in güncel degeri: 6\n",
      "yenidegisken'in güncel degeri: 7\n",
      "yenidegisken'in güncel degeri: 8\n",
      "yenidegisken'in güncel degeri: 9\n",
      "yenidegisken'in güncel degeri: 10\n",
      "yenidegisken'in güncel degeri: 11\n",
      "yenidegisken'in güncel degeri: 12\n",
      "yenidegisken'in güncel degeri: 13\n",
      "yenidegisken'in güncel degeri: 14\n"
     ]
    }
   ],
   "source": [
    "yenidegisken=0\n",
    "while yenidegisken <15:\n",
    "    #print (\"yenidegisken'in güncel degeri: \"+ str(yenidegisken))\n",
    "    print(f\"yenidegisken'in güncel degeri: {yenidegisken}\") ### f=format \n",
    "    yenidegisken=yenidegisken+1"
   ]
  },
  {
   "cell_type": "markdown",
   "id": "d8de2480",
   "metadata": {},
   "source": [
    "## Random\n",
    "En çok kullanılan kütüphanelerden biridir."
   ]
  },
  {
   "cell_type": "code",
   "execution_count": 68,
   "id": "173ec1a6",
   "metadata": {},
   "outputs": [],
   "source": [
    "from random import randint"
   ]
  },
  {
   "cell_type": "code",
   "execution_count": 71,
   "id": "1a64171d",
   "metadata": {},
   "outputs": [
    {
     "data": {
      "text/plain": [
       "1"
      ]
     },
     "execution_count": 71,
     "metadata": {},
     "output_type": "execute_result"
    }
   ],
   "source": [
    "randint(0,5) ## 0 ile 5 arasında rastgelebir sayı getirir"
   ]
  },
  {
   "cell_type": "code",
   "execution_count": 72,
   "id": "bfb5dbbc",
   "metadata": {},
   "outputs": [
    {
     "data": {
      "text/plain": [
       "10"
      ]
     },
     "execution_count": 72,
     "metadata": {},
     "output_type": "execute_result"
    }
   ],
   "source": [
    "randint(0,10)"
   ]
  },
  {
   "cell_type": "code",
   "execution_count": 73,
   "id": "af3b63c6",
   "metadata": {},
   "outputs": [],
   "source": [
    "yeniliste=list(range(0,10))"
   ]
  },
  {
   "cell_type": "code",
   "execution_count": 74,
   "id": "de71ce7c",
   "metadata": {},
   "outputs": [
    {
     "data": {
      "text/plain": [
       "[0, 1, 2, 3, 4, 5, 6, 7, 8, 9]"
      ]
     },
     "execution_count": 74,
     "metadata": {},
     "output_type": "execute_result"
    }
   ],
   "source": [
    "yeniliste"
   ]
  },
  {
   "cell_type": "code",
   "execution_count": 75,
   "id": "59e389a0",
   "metadata": {},
   "outputs": [
    {
     "data": {
      "text/plain": [
       "[0, 1, 2, 3, 4, 5, 6, 7, 8, 9]"
      ]
     },
     "execution_count": 75,
     "metadata": {},
     "output_type": "execute_result"
    }
   ],
   "source": [
    "yeniliste"
   ]
  },
  {
   "cell_type": "code",
   "execution_count": 76,
   "id": "290a0f46",
   "metadata": {},
   "outputs": [],
   "source": [
    "from random import shuffle"
   ]
  },
  {
   "cell_type": "code",
   "execution_count": 77,
   "id": "3afdb239",
   "metadata": {},
   "outputs": [],
   "source": [
    "shuffle(yeniliste)"
   ]
  },
  {
   "cell_type": "code",
   "execution_count": 79,
   "id": "c3cb8743",
   "metadata": {},
   "outputs": [
    {
     "data": {
      "text/plain": [
       "[1, 7, 0, 6, 3, 8, 2, 4, 9, 5]"
      ]
     },
     "execution_count": 79,
     "metadata": {},
     "output_type": "execute_result"
    }
   ],
   "source": [
    "yeniliste"
   ]
  },
  {
   "cell_type": "markdown",
   "id": "48b60a7c",
   "metadata": {},
   "source": [
    "## zip \n",
    "sıkıştırmak, fermuarlamak anlamlarına gelir"
   ]
  },
  {
   "cell_type": "markdown",
   "id": "12425a8f",
   "metadata": {},
   "source": []
  }
 ],
 "metadata": {
  "kernelspec": {
   "display_name": "Python 3 (ipykernel)",
   "language": "python",
   "name": "python3"
  },
  "language_info": {
   "codemirror_mode": {
    "name": "ipython",
    "version": 3
   },
   "file_extension": ".py",
   "mimetype": "text/x-python",
   "name": "python",
   "nbconvert_exporter": "python",
   "pygments_lexer": "ipython3",
   "version": "3.9.7"
  }
 },
 "nbformat": 4,
 "nbformat_minor": 5
}
