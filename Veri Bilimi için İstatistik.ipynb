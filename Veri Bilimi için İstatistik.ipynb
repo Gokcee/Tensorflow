{
 "cells": [
  {
   "cell_type": "code",
   "execution_count": 8,
   "id": "d541c6c1",
   "metadata": {},
   "outputs": [],
   "source": [
    "import numpy as np"
   ]
  },
  {
   "cell_type": "markdown",
   "id": "6543c4e7",
   "metadata": {},
   "source": [
    "populasyon=np.random.randint(0,80,10000)"
   ]
  },
  {
   "cell_type": "markdown",
   "id": "cc2136e6",
   "metadata": {},
   "source": [
    "populasyon[0:10]"
   ]
  },
  {
   "cell_type": "markdown",
   "id": "8e8315f6",
   "metadata": {},
   "source": [
    "# örneklem çekimi"
   ]
  },
  {
   "cell_type": "code",
   "execution_count": 21,
   "id": "30d707eb",
   "metadata": {},
   "outputs": [],
   "source": [
    "np.random.seed(115)"
   ]
  },
  {
   "cell_type": "code",
   "execution_count": 22,
   "id": "8db8e4c6",
   "metadata": {},
   "outputs": [],
   "source": [
    "orneklem=np.random.choice(a=populasyon,size=100)"
   ]
  },
  {
   "cell_type": "code",
   "execution_count": 23,
   "id": "cfdbfc26",
   "metadata": {},
   "outputs": [
    {
     "data": {
      "text/plain": [
       "array([11, 59,  8, 56, 64, 43, 76,  7, 79, 38])"
      ]
     },
     "execution_count": 23,
     "metadata": {},
     "output_type": "execute_result"
    }
   ],
   "source": [
    "orneklem[0:10]"
   ]
  },
  {
   "cell_type": "code",
   "execution_count": 24,
   "id": "fced185f",
   "metadata": {},
   "outputs": [
    {
     "data": {
      "text/plain": [
       "39.76"
      ]
     },
     "execution_count": 24,
     "metadata": {},
     "output_type": "execute_result"
    }
   ],
   "source": [
    "orneklem.mean()"
   ]
  },
  {
   "cell_type": "code",
   "execution_count": 25,
   "id": "109de451",
   "metadata": {},
   "outputs": [
    {
     "data": {
      "text/plain": [
       "39.7218"
      ]
     },
     "execution_count": 25,
     "metadata": {},
     "output_type": "execute_result"
    }
   ],
   "source": [
    "populasyon.mean()"
   ]
  },
  {
   "cell_type": "code",
   "execution_count": 30,
   "id": "8b45eaa6",
   "metadata": {},
   "outputs": [],
   "source": [
    "orneklem1=np.random.choice(a=populasyon,size=100)\n",
    "orneklem2=np.random.choice(a=populasyon,size=100)\n",
    "orneklem3=np.random.choice(a=populasyon,size=100)\n",
    "orneklem4=np.random.choice(a=populasyon,size=100)\n",
    "orneklem5=np.random.choice(a=populasyon,size=100)\n",
    "orneklem6=np.random.choice(a=populasyon,size=100)\n",
    "orneklem7=np.random.choice(a=populasyon,size=100)\n",
    "orneklem8=np.random.choice(a=populasyon,size=100)\n",
    "orneklem9=np.random.choice(a=populasyon,size=100)\n",
    "orneklem10=np.random.choice(a=populasyon,size=100)"
   ]
  },
  {
   "cell_type": "code",
   "execution_count": 31,
   "id": "fb07ed3f",
   "metadata": {},
   "outputs": [],
   "source": [
    "mean= (orneklem1.mean()+orneklem2.mean()+orneklem3.mean()+orneklem4.mean()+orneklem5.mean()+orneklem6.mean()+orneklem7.mean()+orneklem8.mean()+orneklem9.mean()+orneklem10.mean())/10"
   ]
  },
  {
   "cell_type": "code",
   "execution_count": 32,
   "id": "a28cd339",
   "metadata": {},
   "outputs": [
    {
     "data": {
      "text/plain": [
       "40.226000000000006"
      ]
     },
     "execution_count": 32,
     "metadata": {},
     "output_type": "execute_result"
    }
   ],
   "source": [
    "mean"
   ]
  },
  {
   "cell_type": "markdown",
   "id": "578a8187",
   "metadata": {},
   "source": [
    "# Betimsel İstatistikler"
   ]
  },
  {
   "cell_type": "code",
   "execution_count": 35,
   "id": "66017dc3",
   "metadata": {},
   "outputs": [],
   "source": [
    "import seaborn as sns"
   ]
  },
  {
   "cell_type": "code",
   "execution_count": 36,
   "id": "7f1403fe",
   "metadata": {},
   "outputs": [],
   "source": [
    "tips =sns.load_dataset(\"tips\")"
   ]
  },
  {
   "cell_type": "code",
   "execution_count": 37,
   "id": "36ce2eb4",
   "metadata": {},
   "outputs": [],
   "source": [
    "df=tips.copy()"
   ]
  },
  {
   "cell_type": "code",
   "execution_count": 38,
   "id": "e5e2c0ec",
   "metadata": {},
   "outputs": [
    {
     "data": {
      "text/html": [
       "<div>\n",
       "<style scoped>\n",
       "    .dataframe tbody tr th:only-of-type {\n",
       "        vertical-align: middle;\n",
       "    }\n",
       "\n",
       "    .dataframe tbody tr th {\n",
       "        vertical-align: top;\n",
       "    }\n",
       "\n",
       "    .dataframe thead th {\n",
       "        text-align: right;\n",
       "    }\n",
       "</style>\n",
       "<table border=\"1\" class=\"dataframe\">\n",
       "  <thead>\n",
       "    <tr style=\"text-align: right;\">\n",
       "      <th></th>\n",
       "      <th>total_bill</th>\n",
       "      <th>tip</th>\n",
       "      <th>sex</th>\n",
       "      <th>smoker</th>\n",
       "      <th>day</th>\n",
       "      <th>time</th>\n",
       "      <th>size</th>\n",
       "    </tr>\n",
       "  </thead>\n",
       "  <tbody>\n",
       "    <tr>\n",
       "      <th>0</th>\n",
       "      <td>16.99</td>\n",
       "      <td>1.01</td>\n",
       "      <td>Female</td>\n",
       "      <td>No</td>\n",
       "      <td>Sun</td>\n",
       "      <td>Dinner</td>\n",
       "      <td>2</td>\n",
       "    </tr>\n",
       "    <tr>\n",
       "      <th>1</th>\n",
       "      <td>10.34</td>\n",
       "      <td>1.66</td>\n",
       "      <td>Male</td>\n",
       "      <td>No</td>\n",
       "      <td>Sun</td>\n",
       "      <td>Dinner</td>\n",
       "      <td>3</td>\n",
       "    </tr>\n",
       "    <tr>\n",
       "      <th>2</th>\n",
       "      <td>21.01</td>\n",
       "      <td>3.50</td>\n",
       "      <td>Male</td>\n",
       "      <td>No</td>\n",
       "      <td>Sun</td>\n",
       "      <td>Dinner</td>\n",
       "      <td>3</td>\n",
       "    </tr>\n",
       "    <tr>\n",
       "      <th>3</th>\n",
       "      <td>23.68</td>\n",
       "      <td>3.31</td>\n",
       "      <td>Male</td>\n",
       "      <td>No</td>\n",
       "      <td>Sun</td>\n",
       "      <td>Dinner</td>\n",
       "      <td>2</td>\n",
       "    </tr>\n",
       "    <tr>\n",
       "      <th>4</th>\n",
       "      <td>24.59</td>\n",
       "      <td>3.61</td>\n",
       "      <td>Female</td>\n",
       "      <td>No</td>\n",
       "      <td>Sun</td>\n",
       "      <td>Dinner</td>\n",
       "      <td>4</td>\n",
       "    </tr>\n",
       "  </tbody>\n",
       "</table>\n",
       "</div>"
      ],
      "text/plain": [
       "   total_bill   tip     sex smoker  day    time  size\n",
       "0       16.99  1.01  Female     No  Sun  Dinner     2\n",
       "1       10.34  1.66    Male     No  Sun  Dinner     3\n",
       "2       21.01  3.50    Male     No  Sun  Dinner     3\n",
       "3       23.68  3.31    Male     No  Sun  Dinner     2\n",
       "4       24.59  3.61  Female     No  Sun  Dinner     4"
      ]
     },
     "execution_count": 38,
     "metadata": {},
     "output_type": "execute_result"
    }
   ],
   "source": [
    "df.head()"
   ]
  },
  {
   "cell_type": "code",
   "execution_count": 39,
   "id": "cca68ddc",
   "metadata": {},
   "outputs": [
    {
     "data": {
      "text/html": [
       "<div>\n",
       "<style scoped>\n",
       "    .dataframe tbody tr th:only-of-type {\n",
       "        vertical-align: middle;\n",
       "    }\n",
       "\n",
       "    .dataframe tbody tr th {\n",
       "        vertical-align: top;\n",
       "    }\n",
       "\n",
       "    .dataframe thead th {\n",
       "        text-align: right;\n",
       "    }\n",
       "</style>\n",
       "<table border=\"1\" class=\"dataframe\">\n",
       "  <thead>\n",
       "    <tr style=\"text-align: right;\">\n",
       "      <th></th>\n",
       "      <th>count</th>\n",
       "      <th>mean</th>\n",
       "      <th>std</th>\n",
       "      <th>min</th>\n",
       "      <th>25%</th>\n",
       "      <th>50%</th>\n",
       "      <th>75%</th>\n",
       "      <th>max</th>\n",
       "    </tr>\n",
       "  </thead>\n",
       "  <tbody>\n",
       "    <tr>\n",
       "      <th>total_bill</th>\n",
       "      <td>244.0</td>\n",
       "      <td>19.785943</td>\n",
       "      <td>8.902412</td>\n",
       "      <td>3.07</td>\n",
       "      <td>13.3475</td>\n",
       "      <td>17.795</td>\n",
       "      <td>24.1275</td>\n",
       "      <td>50.81</td>\n",
       "    </tr>\n",
       "    <tr>\n",
       "      <th>tip</th>\n",
       "      <td>244.0</td>\n",
       "      <td>2.998279</td>\n",
       "      <td>1.383638</td>\n",
       "      <td>1.00</td>\n",
       "      <td>2.0000</td>\n",
       "      <td>2.900</td>\n",
       "      <td>3.5625</td>\n",
       "      <td>10.00</td>\n",
       "    </tr>\n",
       "    <tr>\n",
       "      <th>size</th>\n",
       "      <td>244.0</td>\n",
       "      <td>2.569672</td>\n",
       "      <td>0.951100</td>\n",
       "      <td>1.00</td>\n",
       "      <td>2.0000</td>\n",
       "      <td>2.000</td>\n",
       "      <td>3.0000</td>\n",
       "      <td>6.00</td>\n",
       "    </tr>\n",
       "  </tbody>\n",
       "</table>\n",
       "</div>"
      ],
      "text/plain": [
       "            count       mean       std   min      25%     50%      75%    max\n",
       "total_bill  244.0  19.785943  8.902412  3.07  13.3475  17.795  24.1275  50.81\n",
       "tip         244.0   2.998279  1.383638  1.00   2.0000   2.900   3.5625  10.00\n",
       "size        244.0   2.569672  0.951100  1.00   2.0000   2.000   3.0000   6.00"
      ]
     },
     "execution_count": 39,
     "metadata": {},
     "output_type": "execute_result"
    }
   ],
   "source": [
    "df.describe().T"
   ]
  },
  {
   "cell_type": "code",
   "execution_count": 45,
   "id": "de73d700",
   "metadata": {},
   "outputs": [],
   "source": [
    "import researchpy as rp"
   ]
  },
  {
   "cell_type": "code",
   "execution_count": 47,
   "id": "7bb6e9de",
   "metadata": {},
   "outputs": [
    {
     "name": "stdout",
     "output_type": "stream",
     "text": [
      "\n",
      "\n"
     ]
    },
    {
     "data": {
      "text/html": [
       "<div>\n",
       "<style scoped>\n",
       "    .dataframe tbody tr th:only-of-type {\n",
       "        vertical-align: middle;\n",
       "    }\n",
       "\n",
       "    .dataframe tbody tr th {\n",
       "        vertical-align: top;\n",
       "    }\n",
       "\n",
       "    .dataframe thead th {\n",
       "        text-align: right;\n",
       "    }\n",
       "</style>\n",
       "<table border=\"1\" class=\"dataframe\">\n",
       "  <thead>\n",
       "    <tr style=\"text-align: right;\">\n",
       "      <th></th>\n",
       "      <th>Variable</th>\n",
       "      <th>N</th>\n",
       "      <th>Mean</th>\n",
       "      <th>SD</th>\n",
       "      <th>SE</th>\n",
       "      <th>95% Conf.</th>\n",
       "      <th>Interval</th>\n",
       "    </tr>\n",
       "  </thead>\n",
       "  <tbody>\n",
       "    <tr>\n",
       "      <th>0</th>\n",
       "      <td>total_bill</td>\n",
       "      <td>244.0</td>\n",
       "      <td>19.7859</td>\n",
       "      <td>8.9024</td>\n",
       "      <td>0.5699</td>\n",
       "      <td>18.6633</td>\n",
       "      <td>20.9086</td>\n",
       "    </tr>\n",
       "    <tr>\n",
       "      <th>1</th>\n",
       "      <td>tip</td>\n",
       "      <td>244.0</td>\n",
       "      <td>2.9983</td>\n",
       "      <td>1.3836</td>\n",
       "      <td>0.0886</td>\n",
       "      <td>2.8238</td>\n",
       "      <td>3.1728</td>\n",
       "    </tr>\n",
       "    <tr>\n",
       "      <th>2</th>\n",
       "      <td>size</td>\n",
       "      <td>244.0</td>\n",
       "      <td>2.5697</td>\n",
       "      <td>0.9511</td>\n",
       "      <td>0.0609</td>\n",
       "      <td>2.4497</td>\n",
       "      <td>2.6896</td>\n",
       "    </tr>\n",
       "  </tbody>\n",
       "</table>\n",
       "</div>"
      ],
      "text/plain": [
       "     Variable      N     Mean      SD      SE  95% Conf.  Interval\n",
       "0  total_bill  244.0  19.7859  8.9024  0.5699    18.6633   20.9086\n",
       "1         tip  244.0   2.9983  1.3836  0.0886     2.8238    3.1728\n",
       "2        size  244.0   2.5697  0.9511  0.0609     2.4497    2.6896"
      ]
     },
     "execution_count": 47,
     "metadata": {},
     "output_type": "execute_result"
    }
   ],
   "source": [
    "rp.summary_cont(df[[\"total_bill\",\"tip\",\"size\"]])"
   ]
  },
  {
   "cell_type": "code",
   "execution_count": 48,
   "id": "d39ffbdf",
   "metadata": {},
   "outputs": [
    {
     "data": {
      "text/html": [
       "<div>\n",
       "<style scoped>\n",
       "    .dataframe tbody tr th:only-of-type {\n",
       "        vertical-align: middle;\n",
       "    }\n",
       "\n",
       "    .dataframe tbody tr th {\n",
       "        vertical-align: top;\n",
       "    }\n",
       "\n",
       "    .dataframe thead th {\n",
       "        text-align: right;\n",
       "    }\n",
       "</style>\n",
       "<table border=\"1\" class=\"dataframe\">\n",
       "  <thead>\n",
       "    <tr style=\"text-align: right;\">\n",
       "      <th></th>\n",
       "      <th>tip</th>\n",
       "      <th>total_bill</th>\n",
       "    </tr>\n",
       "  </thead>\n",
       "  <tbody>\n",
       "    <tr>\n",
       "      <th>tip</th>\n",
       "      <td>1.914455</td>\n",
       "      <td>8.323502</td>\n",
       "    </tr>\n",
       "    <tr>\n",
       "      <th>total_bill</th>\n",
       "      <td>8.323502</td>\n",
       "      <td>79.252939</td>\n",
       "    </tr>\n",
       "  </tbody>\n",
       "</table>\n",
       "</div>"
      ],
      "text/plain": [
       "                 tip  total_bill\n",
       "tip         1.914455    8.323502\n",
       "total_bill  8.323502   79.252939"
      ]
     },
     "execution_count": 48,
     "metadata": {},
     "output_type": "execute_result"
    }
   ],
   "source": [
    "df[[\"tip\", \"total_bill\"]].cov()"
   ]
  },
  {
   "cell_type": "code",
   "execution_count": 49,
   "id": "59021fba",
   "metadata": {},
   "outputs": [
    {
     "data": {
      "text/html": [
       "<div>\n",
       "<style scoped>\n",
       "    .dataframe tbody tr th:only-of-type {\n",
       "        vertical-align: middle;\n",
       "    }\n",
       "\n",
       "    .dataframe tbody tr th {\n",
       "        vertical-align: top;\n",
       "    }\n",
       "\n",
       "    .dataframe thead th {\n",
       "        text-align: right;\n",
       "    }\n",
       "</style>\n",
       "<table border=\"1\" class=\"dataframe\">\n",
       "  <thead>\n",
       "    <tr style=\"text-align: right;\">\n",
       "      <th></th>\n",
       "      <th>tip</th>\n",
       "      <th>total_bill</th>\n",
       "    </tr>\n",
       "  </thead>\n",
       "  <tbody>\n",
       "    <tr>\n",
       "      <th>tip</th>\n",
       "      <td>1.000000</td>\n",
       "      <td>0.675734</td>\n",
       "    </tr>\n",
       "    <tr>\n",
       "      <th>total_bill</th>\n",
       "      <td>0.675734</td>\n",
       "      <td>1.000000</td>\n",
       "    </tr>\n",
       "  </tbody>\n",
       "</table>\n",
       "</div>"
      ],
      "text/plain": [
       "                 tip  total_bill\n",
       "tip         1.000000    0.675734\n",
       "total_bill  0.675734    1.000000"
      ]
     },
     "execution_count": 49,
     "metadata": {},
     "output_type": "execute_result"
    }
   ],
   "source": [
    "df[[\"tip\", \"total_bill\"]].corr()"
   ]
  },
  {
   "cell_type": "markdown",
   "id": "4090d18c",
   "metadata": {},
   "source": [
    "# Güven aralığı"
   ]
  },
  {
   "cell_type": "markdown",
   "id": "6f9efe5a",
   "metadata": {},
   "source": [
    "# İş Uygulaması: Fiyat Stratejisi\n",
    "-->Problem:\n",
    "    CEO fiyat belirleme konusunda bilimsel bir dayanak ve esneklik isteniyor\n",
    "    \n",
    " * Detaylar:\n",
    "   + Satıcı, alıcı ve bir ürün var.\n",
    "   + Alıcılara ürüne ne kadar ücret ödediniz diye soruluyor\n",
    "   + Optimum fiyat bilimsel ve esnek olarak bulunmak isteniyor "
   ]
  },
  {
   "cell_type": "code",
   "execution_count": 50,
   "id": "63115002",
   "metadata": {},
   "outputs": [],
   "source": [
    "fiyatlar=np.random.randint(10,110,1000)"
   ]
  },
  {
   "cell_type": "code",
   "execution_count": 51,
   "id": "fb79b50f",
   "metadata": {},
   "outputs": [
    {
     "data": {
      "text/plain": [
       "58.98"
      ]
     },
     "execution_count": 51,
     "metadata": {},
     "output_type": "execute_result"
    }
   ],
   "source": [
    "fiyatlar.mean()"
   ]
  },
  {
   "cell_type": "code",
   "execution_count": 52,
   "id": "e34f44e7",
   "metadata": {},
   "outputs": [],
   "source": [
    "import statsmodels.stats.api as sms"
   ]
  },
  {
   "cell_type": "code",
   "execution_count": 53,
   "id": "e1a3c7a5",
   "metadata": {},
   "outputs": [
    {
     "data": {
      "text/plain": [
       "(57.20632058604849, 60.7536794139515)"
      ]
     },
     "execution_count": 53,
     "metadata": {},
     "output_type": "execute_result"
    }
   ],
   "source": [
    "sms.DescrStatsW(fiyatlar).tconfint_mean()"
   ]
  },
  {
   "cell_type": "markdown",
   "id": "8530dd18",
   "metadata": {},
   "source": [
    "# Olasılık Dağılımları\n",
    "# 1. Bernoulli Dağılımı"
   ]
  },
  {
   "cell_type": "code",
   "execution_count": 55,
   "id": "843e12cd",
   "metadata": {},
   "outputs": [],
   "source": [
    "from scipy.stats import bernoulli"
   ]
  },
  {
   "cell_type": "code",
   "execution_count": 56,
   "id": "07581e2a",
   "metadata": {},
   "outputs": [],
   "source": [
    "p=0.6"
   ]
  },
  {
   "cell_type": "code",
   "execution_count": 57,
   "id": "93ffe6b0",
   "metadata": {},
   "outputs": [
    {
     "data": {
      "text/plain": [
       "0.6"
      ]
     },
     "execution_count": 57,
     "metadata": {},
     "output_type": "execute_result"
    }
   ],
   "source": [
    "rv=bernoulli(p)\n",
    "rv.pmf(k=1)"
   ]
  },
  {
   "cell_type": "code",
   "execution_count": 58,
   "id": "05bb8994",
   "metadata": {},
   "outputs": [
    {
     "data": {
      "text/plain": [
       "0.4"
      ]
     },
     "execution_count": 58,
     "metadata": {},
     "output_type": "execute_result"
    }
   ],
   "source": [
    "rv=bernoulli(p)\n",
    "rv.pmf(k=0)"
   ]
  },
  {
   "cell_type": "markdown",
   "id": "4fa3992d",
   "metadata": {},
   "source": [
    "yukarıda bernoulli için iki durumun da (1 veya 0) olasılıklarını hesapladık."
   ]
  },
  {
   "cell_type": "markdown",
   "id": "5b5f77b6",
   "metadata": {},
   "source": [
    "# 2.Büyük Sayılar Yasası"
   ]
  },
  {
   "cell_type": "code",
   "execution_count": 65,
   "id": "dd90fd3f",
   "metadata": {},
   "outputs": [
    {
     "name": "stdout",
     "output_type": "stream",
     "text": [
      "Atış Sayısı: 2 --- Yazı Olasılığı:0.50\n",
      "Atış Sayısı: 4 --- Yazı Olasılığı:0.00\n",
      "Atış Sayısı: 8 --- Yazı Olasılığı:0.62\n",
      "Atış Sayısı: 16 --- Yazı Olasılığı:0.44\n",
      "Atış Sayısı: 32 --- Yazı Olasılığı:0.47\n",
      "Atış Sayısı: 64 --- Yazı Olasılığı:0.56\n",
      "Atış Sayısı: 128 --- Yazı Olasılığı:0.51\n",
      "Atış Sayısı: 256 --- Yazı Olasılığı:0.53\n",
      "Atış Sayısı: 512 --- Yazı Olasılığı:0.53\n",
      "Atış Sayısı: 1024 --- Yazı Olasılığı:0.50\n",
      "Atış Sayısı: 2048 --- Yazı Olasılığı:0.49\n",
      "Atış Sayısı: 4096 --- Yazı Olasılığı:0.49\n",
      "Atış Sayısı: 8192 --- Yazı Olasılığı:0.50\n",
      "Atış Sayısı: 16384 --- Yazı Olasılığı:0.50\n",
      "Atış Sayısı: 32768 --- Yazı Olasılığı:0.50\n",
      "Atış Sayısı: 65536 --- Yazı Olasılığı:0.50\n",
      "Atış Sayısı: 131072 --- Yazı Olasılığı:0.50\n",
      "Atış Sayısı: 262144 --- Yazı Olasılığı:0.50\n",
      "Atış Sayısı: 524288 --- Yazı Olasılığı:0.50\n",
      "Atış Sayısı: 1048576 --- Yazı Olasılığı:0.50\n"
     ]
    }
   ],
   "source": [
    "rng=np.random.RandomState(123)\n",
    "for i in np.arange(1,21):\n",
    "    deney_sayisi=2**i\n",
    "    yazi_turalar=rng.randint(0,2,size=deney_sayisi)\n",
    "    yazi_olasiliklari=np.mean(yazi_turalar)\n",
    "    print(\"Atış Sayısı:\",deney_sayisi,\"---\",'Yazı Olasılığı:%.2f' % (yazi_olasiliklari))"
   ]
  },
  {
   "cell_type": "markdown",
   "id": "cb3af367",
   "metadata": {},
   "source": [
    "# 3. Binom Dağılımı"
   ]
  },
  {
   "cell_type": "markdown",
   "id": "abb62d76",
   "metadata": {},
   "source": [
    "# İş Uygulaması:Reklam Harcaması Optimizasyonu\n",
    "\n",
    "Problem:\n",
    "--\n",
    "Çeşitli mecralara reklam veriliyor, reklamların tıklanma ve geri dönüşüm oranları optimize edilmeye çalışılıyor. Buna yönelik olarak belirli bir mecrada çeşitli senaryolara göre reklama tıklama olasılıkları hesaplanmak isteniliyor.\n",
    "\n",
    "Detaylar:\n",
    " --\n",
    " *-Bir mecrada reklam verilecek \n",
    " **-Dağılım ve reklama tıklama olasılığı biliniyor(0,01)\n",
    " **-Soru:Reklamı 10 kişi gördüğünde 1,5,10 tıklanması olasılığı nedir?\n",
    " \n",
    " Olasılıkların Hesaplanması:\n",
    " --\n",
    " *-f(1;100,0,01)= komb(100/1)*0,01^2(1-0,01)^(100-1)=0,37\n",
    " **-f(5;100,0.01)=0,00289779\n",
    " ***-f(10;100,0.01)=0,00000007"
   ]
  },
  {
   "cell_type": "code",
   "execution_count": 66,
   "id": "e5ecd3c7",
   "metadata": {},
   "outputs": [],
   "source": [
    "from scipy.stats import binom"
   ]
  },
  {
   "cell_type": "code",
   "execution_count": 67,
   "id": "a14445d4",
   "metadata": {},
   "outputs": [
    {
     "name": "stdout",
     "output_type": "stream",
     "text": [
      "0.36972963764972666\n",
      "0.002897787123761478\n",
      "7.006035693977194e-08\n"
     ]
    }
   ],
   "source": [
    "p=0.01\n",
    "n=100\n",
    "rv=binom(n,p)\n",
    "print(rv.pmf(1))\n",
    "print(rv.pmf(5))\n",
    "print(rv.pmf(10))"
   ]
  },
  {
   "cell_type": "markdown",
   "id": "b4b8a2f8",
   "metadata": {},
   "source": [
    "# 4. Poisson Dağılımı"
   ]
  },
  {
   "cell_type": "markdown",
   "id": "bc3d4f30",
   "metadata": {},
   "source": [
    "# İş Uygulaması:İlan Girişi Hata Olasılıkları \n",
    "Prolem\n",
    "--\n",
    "Hatalı ilan girişi olasılıkları hesaplanmak isteniyor.\n",
    "\n",
    "Detaylar\n",
    "--\n",
    "1)Bir yıl süresince ölçümler yapılıyor \n",
    "2)Dağılım biliniyor (Poisson) ve Lambda 0.1 (ortalama hata sayısı)\n",
    "\n",
    "f(0;0.1)=0,1^0*e^(-0.1)/0!=0.9048374180\n",
    "f(3;0.1)=0,0001508062\n",
    "f(5;0.1)=0,0000000754\n"
   ]
  },
  {
   "cell_type": "code",
   "execution_count": 68,
   "id": "db952736",
   "metadata": {},
   "outputs": [],
   "source": [
    "from scipy.stats import poisson"
   ]
  },
  {
   "cell_type": "code",
   "execution_count": 70,
   "id": "bdaa456f",
   "metadata": {},
   "outputs": [],
   "source": [
    "lambda_=0.1"
   ]
  },
  {
   "cell_type": "code",
   "execution_count": 71,
   "id": "e446861d",
   "metadata": {},
   "outputs": [
    {
     "name": "stdout",
     "output_type": "stream",
     "text": [
      "0.9048374180359595\n"
     ]
    }
   ],
   "source": [
    "rv=poisson(mu=lambda_)\n",
    "print(rv.pmf(k=0))"
   ]
  },
  {
   "cell_type": "code",
   "execution_count": 72,
   "id": "7521edce",
   "metadata": {},
   "outputs": [
    {
     "name": "stdout",
     "output_type": "stream",
     "text": [
      "0.00015080623633932676\n"
     ]
    }
   ],
   "source": [
    "print(rv.pmf(k=3))"
   ]
  },
  {
   "cell_type": "code",
   "execution_count": 73,
   "id": "d17a8ad8",
   "metadata": {},
   "outputs": [
    {
     "name": "stdout",
     "output_type": "stream",
     "text": [
      "7.54031181696634e-08\n"
     ]
    }
   ],
   "source": [
    "print(rv.pmf(k=5))"
   ]
  },
  {
   "cell_type": "markdown",
   "id": "20c72614",
   "metadata": {},
   "source": [
    "# 5. Normal Dağılım "
   ]
  },
  {
   "cell_type": "markdown",
   "id": "d652ec51",
   "metadata": {},
   "source": [
    "İş Uygulaması: Satış Olasılıklarının Hesaplanması \n",
    "--\n",
    "Problem:\n",
    "--\n",
    "Bir yatırım/toplantı öncesinde gelecek ay ile ilgili satışların belirli değerlerde gerçekleşmesi olasılıkları belirlenmek isteniyor.\n",
    "\n",
    "Detaylar\n",
    "--\n",
    "1) Dağılımın normal dağıldığı biliniyor.\n",
    "2)Aylık ortalam satış sayısı 80K, Standart sapamsı 5K\n",
    "3)90K'dan fazla satış yapma olasılığı nedir?\n",
    "\n"
   ]
  },
  {
   "cell_type": "code",
   "execution_count": 77,
   "id": "173888a0",
   "metadata": {},
   "outputs": [],
   "source": [
    "from scipy.stats import norm"
   ]
  },
  {
   "cell_type": "code",
   "execution_count": 78,
   "id": "fca4679b",
   "metadata": {},
   "outputs": [
    {
     "data": {
      "text/plain": [
       "0.02275013194817921"
      ]
     },
     "execution_count": 78,
     "metadata": {},
     "output_type": "execute_result"
    }
   ],
   "source": [
    "#90'dan fazla olması \n",
    "1-norm.cdf(90,80,5)"
   ]
  },
  {
   "cell_type": "code",
   "execution_count": 79,
   "id": "0a5f8620",
   "metadata": {},
   "outputs": [
    {
     "data": {
      "text/plain": [
       "0.9772498680518208"
      ]
     },
     "execution_count": 79,
     "metadata": {},
     "output_type": "execute_result"
    }
   ],
   "source": [
    "#70'den den fazla olması \n",
    "1-norm.cdf(70,80,5)"
   ]
  },
  {
   "cell_type": "code",
   "execution_count": 80,
   "id": "c33fd355",
   "metadata": {},
   "outputs": [
    {
     "data": {
      "text/plain": [
       "0.9192433407662289"
      ]
     },
     "execution_count": 80,
     "metadata": {},
     "output_type": "execute_result"
    }
   ],
   "source": [
    "#73'den az olması \n",
    "1-norm.cdf(73,80,5)"
   ]
  },
  {
   "cell_type": "code",
   "execution_count": 81,
   "id": "6fbf7719",
   "metadata": {},
   "outputs": [
    {
     "data": {
      "text/plain": [
       "0.13590512198327787"
      ]
     },
     "execution_count": 81,
     "metadata": {},
     "output_type": "execute_result"
    }
   ],
   "source": [
    "#85 ile 90 arasında olması \n",
    "norm.cdf(90,80,5)-norm.cdf(85,80,5)\n"
   ]
  },
  {
   "cell_type": "code",
   "execution_count": null,
   "id": "8981a6fc",
   "metadata": {},
   "outputs": [],
   "source": []
  }
 ],
 "metadata": {
  "kernelspec": {
   "display_name": "Python 3 (ipykernel)",
   "language": "python",
   "name": "python3"
  },
  "language_info": {
   "codemirror_mode": {
    "name": "ipython",
    "version": 3
   },
   "file_extension": ".py",
   "mimetype": "text/x-python",
   "name": "python",
   "nbconvert_exporter": "python",
   "pygments_lexer": "ipython3",
   "version": "3.8.9"
  }
 },
 "nbformat": 4,
 "nbformat_minor": 5
}
