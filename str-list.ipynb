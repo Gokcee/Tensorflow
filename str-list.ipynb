{
 "cells": [
  {
   "cell_type": "code",
   "execution_count": 10,
   "id": "c62209db",
   "metadata": {},
   "outputs": [
    {
     "name": "stdout",
     "output_type": "stream",
     "text": [
      "yaşınızı giriniz: 25\n"
     ]
    }
   ],
   "source": [
    "KullanıcınınYasi = input(\"yaşınızı giriniz: \")\n"
   ]
  },
  {
   "cell_type": "code",
   "execution_count": 11,
   "id": "f01d1668",
   "metadata": {},
   "outputs": [
    {
     "data": {
      "text/plain": [
       "'25'"
      ]
     },
     "execution_count": 11,
     "metadata": {},
     "output_type": "execute_result"
    }
   ],
   "source": [
    "KullanıcınınYasi "
   ]
  },
  {
   "cell_type": "code",
   "execution_count": 12,
   "id": "e4a62307",
   "metadata": {},
   "outputs": [
    {
     "data": {
      "text/plain": [
       "int"
      ]
     },
     "execution_count": 12,
     "metadata": {},
     "output_type": "execute_result"
    }
   ],
   "source": [
    "type(25)"
   ]
  },
  {
   "cell_type": "code",
   "execution_count": 13,
   "id": "2b629152",
   "metadata": {},
   "outputs": [
    {
     "data": {
      "text/plain": [
       "str"
      ]
     },
     "execution_count": 13,
     "metadata": {},
     "output_type": "execute_result"
    }
   ],
   "source": [
    "type('25')"
   ]
  },
  {
   "cell_type": "code",
   "execution_count": 14,
   "id": "f42d9a55",
   "metadata": {},
   "outputs": [
    {
     "data": {
      "text/plain": [
       "float"
      ]
     },
     "execution_count": 14,
     "metadata": {},
     "output_type": "execute_result"
    }
   ],
   "source": [
    "type(25.0)"
   ]
  },
  {
   "cell_type": "code",
   "execution_count": 16,
   "id": "2b9fe705",
   "metadata": {},
   "outputs": [],
   "source": [
    "benimismim='gökçe'"
   ]
  },
  {
   "cell_type": "code",
   "execution_count": 17,
   "id": "e79b95e8",
   "metadata": {},
   "outputs": [
    {
     "data": {
      "text/plain": [
       "'Gökçe'"
      ]
     },
     "execution_count": 17,
     "metadata": {},
     "output_type": "execute_result"
    }
   ],
   "source": [
    " benimismim.capitalize()"
   ]
  },
  {
   "cell_type": "code",
   "execution_count": 18,
   "id": "d33bd7bd",
   "metadata": {},
   "outputs": [
    {
     "data": {
      "text/plain": [
       "'gökçe'"
      ]
     },
     "execution_count": 18,
     "metadata": {},
     "output_type": "execute_result"
    }
   ],
   "source": [
    "benimismim"
   ]
  },
  {
   "cell_type": "code",
   "execution_count": 19,
   "id": "4109be84",
   "metadata": {},
   "outputs": [],
   "source": [
    "benimtamismim = 'GökçeDoğan'"
   ]
  },
  {
   "cell_type": "code",
   "execution_count": 20,
   "id": "28b6b6ad",
   "metadata": {},
   "outputs": [
    {
     "data": {
      "text/plain": [
       "['Gökçe', 'Doğan']"
      ]
     },
     "execution_count": 20,
     "metadata": {},
     "output_type": "execute_result"
    }
   ],
   "source": [
    "benimtamismim.split()"
   ]
  },
  {
   "cell_type": "code",
   "execution_count": 22,
   "id": "7f43fbbb",
   "metadata": {},
   "outputs": [
    {
     "data": {
      "text/plain": [
       "'GÖKÇE DOĞAN'"
      ]
     },
     "execution_count": 22,
     "metadata": {},
     "output_type": "execute_result"
    }
   ],
   "source": [
    "benimtamismim.upper()"
   ]
  },
  {
   "cell_type": "code",
   "execution_count": 30,
   "id": "ea17914d",
   "metadata": {},
   "outputs": [
    {
     "data": {
      "text/plain": [
       "'benimismim gökçedir'"
      ]
     },
     "execution_count": 30,
     "metadata": {},
     "output_type": "execute_result"
    }
   ],
   "source": [
    "\"benimismim\" + \" \" + benimismim + \"dir\""
   ]
  },
  {
   "cell_type": "markdown",
   "id": "cff15cae",
   "metadata": {},
   "source": [
    "## immutability & mutable (değişmezlik)\n"
   ]
  },
  {
   "cell_type": "code",
   "execution_count": 31,
   "id": "7296f89f",
   "metadata": {},
   "outputs": [],
   "source": [
    "benimlistem=[10,20,30,40]"
   ]
  },
  {
   "cell_type": "code",
   "execution_count": 32,
   "id": "1a5fd33b",
   "metadata": {},
   "outputs": [
    {
     "data": {
      "text/plain": [
       "list"
      ]
     },
     "execution_count": 32,
     "metadata": {},
     "output_type": "execute_result"
    }
   ],
   "source": [
    "type(benimlistem)"
   ]
  },
  {
   "cell_type": "code",
   "execution_count": 33,
   "id": "a9e328be",
   "metadata": {},
   "outputs": [],
   "source": [
    "benimnumaram=10\n",
    "benimdigernumaram=20"
   ]
  },
  {
   "cell_type": "code",
   "execution_count": 34,
   "id": "daa08e31",
   "metadata": {},
   "outputs": [],
   "source": [
    "benimnumaralistem=[benimnumaram,benimdigernumaram]"
   ]
  },
  {
   "cell_type": "code",
   "execution_count": 35,
   "id": "7bad5ddf",
   "metadata": {},
   "outputs": [
    {
     "data": {
      "text/plain": [
       "40"
      ]
     },
     "execution_count": 35,
     "metadata": {},
     "output_type": "execute_result"
    }
   ],
   "source": [
    "benimlistem[3]"
   ]
  },
  {
   "cell_type": "code",
   "execution_count": 36,
   "id": "9c4a37f2",
   "metadata": {},
   "outputs": [
    {
     "data": {
      "text/plain": [
       "10"
      ]
     },
     "execution_count": 36,
     "metadata": {},
     "output_type": "execute_result"
    }
   ],
   "source": [
    "benimnumaralistem[0]"
   ]
  },
  {
   "cell_type": "code",
   "execution_count": 38,
   "id": "7c5092f7",
   "metadata": {},
   "outputs": [],
   "source": [
    "benimlistem=[10,20,30,40]"
   ]
  },
  {
   "cell_type": "code",
   "execution_count": 39,
   "id": "afc65623",
   "metadata": {},
   "outputs": [],
   "source": [
    "benimlistem[0]=100"
   ]
  },
  {
   "cell_type": "code",
   "execution_count": 40,
   "id": "af27f9ec",
   "metadata": {},
   "outputs": [
    {
     "data": {
      "text/plain": [
       "[100, 20, 30, 40]"
      ]
     },
     "execution_count": 40,
     "metadata": {},
     "output_type": "execute_result"
    }
   ],
   "source": [
    "benimlistem"
   ]
  },
  {
   "cell_type": "code",
   "execution_count": 41,
   "id": "ddba37ac",
   "metadata": {},
   "outputs": [],
   "source": [
    "benimlistem.append(50)"
   ]
  },
  {
   "cell_type": "code",
   "execution_count": 42,
   "id": "5e09a06a",
   "metadata": {},
   "outputs": [
    {
     "data": {
      "text/plain": [
       "[100, 20, 30, 40, 50]"
      ]
     },
     "execution_count": 42,
     "metadata": {},
     "output_type": "execute_result"
    }
   ],
   "source": [
    "benimlistem"
   ]
  },
  {
   "cell_type": "code",
   "execution_count": 43,
   "id": "3fdd58f1",
   "metadata": {},
   "outputs": [
    {
     "data": {
      "text/plain": [
       "50"
      ]
     },
     "execution_count": 43,
     "metadata": {},
     "output_type": "execute_result"
    }
   ],
   "source": [
    "benimlistem.pop()"
   ]
  },
  {
   "cell_type": "code",
   "execution_count": 44,
   "id": "45ddbf92",
   "metadata": {},
   "outputs": [
    {
     "data": {
      "text/plain": [
       "[100, 20, 30, 40]"
      ]
     },
     "execution_count": 44,
     "metadata": {},
     "output_type": "execute_result"
    }
   ],
   "source": [
    "benimlistem"
   ]
  },
  {
   "cell_type": "code",
   "execution_count": 45,
   "id": "568427ac",
   "metadata": {},
   "outputs": [],
   "source": [
    "benimlistem.remove(40)"
   ]
  },
  {
   "cell_type": "code",
   "execution_count": 46,
   "id": "db357a91",
   "metadata": {},
   "outputs": [
    {
     "data": {
      "text/plain": [
       "[100, 20, 30]"
      ]
     },
     "execution_count": 46,
     "metadata": {},
     "output_type": "execute_result"
    }
   ],
   "source": [
    "benimlistem"
   ]
  },
  {
   "cell_type": "code",
   "execution_count": 47,
   "id": "8468c1b6",
   "metadata": {},
   "outputs": [
    {
     "data": {
      "text/plain": [
       "1"
      ]
     },
     "execution_count": 47,
     "metadata": {},
     "output_type": "execute_result"
    }
   ],
   "source": [
    "benimlistem.count(20)"
   ]
  },
  {
   "cell_type": "code",
   "execution_count": 48,
   "id": "1e13e770",
   "metadata": {},
   "outputs": [],
   "source": [
    "benimlistem.append(20)"
   ]
  },
  {
   "cell_type": "code",
   "execution_count": 49,
   "id": "12e54741",
   "metadata": {},
   "outputs": [
    {
     "data": {
      "text/plain": [
       "[100, 20, 30, 20]"
      ]
     },
     "execution_count": 49,
     "metadata": {},
     "output_type": "execute_result"
    }
   ],
   "source": [
    "benimlistem"
   ]
  },
  {
   "cell_type": "code",
   "execution_count": 50,
   "id": "0804a048",
   "metadata": {},
   "outputs": [
    {
     "data": {
      "text/plain": [
       "2"
      ]
     },
     "execution_count": 50,
     "metadata": {},
     "output_type": "execute_result"
    }
   ],
   "source": [
    "benimlistem.count(20)"
   ]
  },
  {
   "cell_type": "code",
   "execution_count": 51,
   "id": "f01034b8",
   "metadata": {},
   "outputs": [],
   "source": [
    "benimstringlistem=[\"atıl\", \"ahmet\",\"zeynep\"]"
   ]
  },
  {
   "cell_type": "code",
   "execution_count": 52,
   "id": "560fc678",
   "metadata": {},
   "outputs": [],
   "source": [
    "benimdigerlistem=[\"mehmet\",\"mahmut\",\"atlas\"]"
   ]
  },
  {
   "cell_type": "code",
   "execution_count": 53,
   "id": "f57b5c06",
   "metadata": {},
   "outputs": [],
   "source": [
    "benimtoplamlistem=benimstringlistem+benimdigerlistem"
   ]
  },
  {
   "cell_type": "code",
   "execution_count": 54,
   "id": "7df6ebb3",
   "metadata": {},
   "outputs": [
    {
     "data": {
      "text/plain": [
       "['atıl', 'ahmet', 'zeynep', 'mehmet', 'mahmut', 'atlas']"
      ]
     },
     "execution_count": 54,
     "metadata": {},
     "output_type": "execute_result"
    }
   ],
   "source": [
    "benimtoplamlistem"
   ]
  },
  {
   "cell_type": "code",
   "execution_count": 55,
   "id": "2a222961",
   "metadata": {},
   "outputs": [
    {
     "data": {
      "text/plain": [
       "['atıl',\n",
       " 'ahmet',\n",
       " 'zeynep',\n",
       " 'atıl',\n",
       " 'ahmet',\n",
       " 'zeynep',\n",
       " 'atıl',\n",
       " 'ahmet',\n",
       " 'zeynep',\n",
       " 'atıl',\n",
       " 'ahmet',\n",
       " 'zeynep',\n",
       " 'atıl',\n",
       " 'ahmet',\n",
       " 'zeynep']"
      ]
     },
     "execution_count": 55,
     "metadata": {},
     "output_type": "execute_result"
    }
   ],
   "source": [
    "benimstringlistem*5"
   ]
  },
  {
   "cell_type": "code",
   "execution_count": 56,
   "id": "6ad5ab6f",
   "metadata": {},
   "outputs": [
    {
     "data": {
      "text/plain": [
       "['atıl', 'ahmet', 'zeynep', 'mehmet', 'mahmut', 'atlas']"
      ]
     },
     "execution_count": 56,
     "metadata": {},
     "output_type": "execute_result"
    }
   ],
   "source": [
    "benimtoplamlistem"
   ]
  },
  {
   "cell_type": "code",
   "execution_count": 57,
   "id": "444e085f",
   "metadata": {},
   "outputs": [],
   "source": [
    "benimtoplamlistem.reverse()"
   ]
  },
  {
   "cell_type": "code",
   "execution_count": 58,
   "id": "ec7f9f09",
   "metadata": {},
   "outputs": [
    {
     "data": {
      "text/plain": [
       "['atlas', 'mahmut', 'mehmet', 'zeynep', 'ahmet', 'atıl']"
      ]
     },
     "execution_count": 58,
     "metadata": {},
     "output_type": "execute_result"
    }
   ],
   "source": [
    "benimtoplamlistem"
   ]
  },
  {
   "cell_type": "code",
   "execution_count": 59,
   "id": "0dc77698",
   "metadata": {},
   "outputs": [],
   "source": [
    "karisikliste=[1,2,3.5,\"atıl,\",9]"
   ]
  },
  {
   "cell_type": "code",
   "execution_count": 60,
   "id": "da3fe68d",
   "metadata": {},
   "outputs": [
    {
     "data": {
      "text/plain": [
       "list"
      ]
     },
     "execution_count": 60,
     "metadata": {},
     "output_type": "execute_result"
    }
   ],
   "source": [
    "type(karisikliste)"
   ]
  },
  {
   "cell_type": "code",
   "execution_count": 63,
   "id": "d5c939c4",
   "metadata": {},
   "outputs": [
    {
     "data": {
      "text/plain": [
       "'atıl,'"
      ]
     },
     "execution_count": 63,
     "metadata": {},
     "output_type": "execute_result"
    }
   ],
   "source": [
    "sonucum=karisikliste[3]\n",
    "karisikliste[3]"
   ]
  },
  {
   "cell_type": "code",
   "execution_count": 64,
   "id": "2f2670e7",
   "metadata": {},
   "outputs": [
    {
     "data": {
      "text/plain": [
       "str"
      ]
     },
     "execution_count": 64,
     "metadata": {},
     "output_type": "execute_result"
    }
   ],
   "source": [
    "type(sonucum)"
   ]
  },
  {
   "cell_type": "markdown",
   "id": "2d0c0eeb",
   "metadata": {},
   "source": [
    "# Nestedlist"
   ]
  },
  {
   "cell_type": "code",
   "execution_count": 65,
   "id": "0bc86bf5",
   "metadata": {},
   "outputs": [],
   "source": [
    "nestedlist=[1,5,\"atıl\",4,[6,\"z\"]] ## birbiri içine geçmiş "
   ]
  },
  {
   "cell_type": "code",
   "execution_count": 68,
   "id": "d3346459",
   "metadata": {},
   "outputs": [
    {
     "data": {
      "text/plain": [
       "[6, 'z']"
      ]
     },
     "execution_count": 68,
     "metadata": {},
     "output_type": "execute_result"
    }
   ],
   "source": [
    "nestedlist[4]"
   ]
  },
  {
   "cell_type": "code",
   "execution_count": 77,
   "id": "2be2e4f8",
   "metadata": {},
   "outputs": [
    {
     "data": {
      "text/plain": [
       "list"
      ]
     },
     "execution_count": 77,
     "metadata": {},
     "output_type": "execute_result"
    }
   ],
   "source": [
    "type(nestedlist[4])"
   ]
  },
  {
   "cell_type": "code",
   "execution_count": 78,
   "id": "1b6c00a9",
   "metadata": {},
   "outputs": [
    {
     "data": {
      "text/plain": [
       "[1, 23]"
      ]
     },
     "execution_count": 78,
     "metadata": {},
     "output_type": "execute_result"
    }
   ],
   "source": [
    "nestedlist[4][1]"
   ]
  },
  {
   "cell_type": "code",
   "execution_count": 79,
   "id": "d06abd96",
   "metadata": {},
   "outputs": [],
   "source": [
    "zdegiskenimiz=nestedlist[4][1]"
   ]
  },
  {
   "cell_type": "code",
   "execution_count": 76,
   "id": "30570a5f",
   "metadata": {},
   "outputs": [
    {
     "data": {
      "text/plain": [
       "[1, 23]"
      ]
     },
     "execution_count": 76,
     "metadata": {},
     "output_type": "execute_result"
    }
   ],
   "source": [
    "zdegiskenimiz"
   ]
  },
  {
   "cell_type": "code",
   "execution_count": 80,
   "id": "8e5d983c",
   "metadata": {},
   "outputs": [],
   "source": [
    "karmasikliste=[[1,2,3,[\"a\",\"b\"],50],40,20,[\"z\",5.5],[3,[\"a\"]]]"
   ]
  },
  {
   "cell_type": "code",
   "execution_count": 101,
   "id": "2d6dd5d1",
   "metadata": {},
   "outputs": [],
   "source": [
    "bdegiskenimiz=karmasikliste[0][3][1]\n",
    "\n"
   ]
  },
  {
   "cell_type": "markdown",
   "id": "8fb4c8ff",
   "metadata": {},
   "source": [
    "bdegiskenimiz"
   ]
  },
  {
   "cell_type": "code",
   "execution_count": 102,
   "id": "63b4d88b",
   "metadata": {},
   "outputs": [
    {
     "data": {
      "text/plain": [
       "'b'"
      ]
     },
     "execution_count": 102,
     "metadata": {},
     "output_type": "execute_result"
    }
   ],
   "source": [
    "bdegiskenimiz"
   ]
  },
  {
   "cell_type": "code",
   "execution_count": null,
   "id": "836595f5",
   "metadata": {},
   "outputs": [],
   "source": []
  }
 ],
 "metadata": {
  "kernelspec": {
   "display_name": "Python 3 (ipykernel)",
   "language": "python",
   "name": "python3"
  },
  "language_info": {
   "codemirror_mode": {
    "name": "ipython",
    "version": 3
   },
   "file_extension": ".py",
   "mimetype": "text/x-python",
   "name": "python",
   "nbconvert_exporter": "python",
   "pygments_lexer": "ipython3",
   "version": "3.9.7"
  }
 },
 "nbformat": 4,
 "nbformat_minor": 5
}
