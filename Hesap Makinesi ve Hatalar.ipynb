{
 "cells": [
  {
   "cell_type": "markdown",
   "id": "6399dbc4",
   "metadata": {},
   "source": [
    "# Hesap Makinesi - Hatalar"
   ]
  },
  {
   "cell_type": "code",
   "execution_count": 16,
   "id": "1866facb",
   "metadata": {},
   "outputs": [
    {
     "name": "stdout",
     "output_type": "stream",
     "text": [
      "ilk sayıyı giriniz: 100\n",
      "ikinci sayıyı giriniz: 5\n",
      "İşleminizi seçiniz:  +-/* /\n"
     ]
    },
    {
     "data": {
      "text/plain": [
       "20.0"
      ]
     },
     "execution_count": 16,
     "metadata": {},
     "output_type": "execute_result"
    }
   ],
   "source": [
    "def hesapla(a,b,islem):\n",
    "    \n",
    "    if islem==\"+\":\n",
    "        return int(a)+int(b)\n",
    "        #return(str(a)+\" + \"+str(b)+ \" = \" + str(a+b))\n",
    "    if islem==\"-\":\n",
    "        #return(str(a)+\" - \"+str(b)+ \" = \" + str(a-b))\n",
    "        return int(a)-int(b)\n",
    "    if islem==\"/\":\n",
    "        #return(str(a)+\" / \"+str(b)+ \" = \" + str(a/b))\n",
    "        return int(a)/int(b)\n",
    "    if islem==\"*\":\n",
    "        #return(str(a)+\" * \"+str(b)+ \" = \" + str(a*b))\n",
    "        return int(a)*int(b)\n",
    "    \n",
    "a = input(\"ilk sayıyı giriniz: \")\n",
    "b = input(\"ikinci sayıyı giriniz: \")\n",
    "islem = input(\"İşleminizi seçiniz:  +-/* \")\n",
    "hesapla(a,b,islem)"
   ]
  },
  {
   "cell_type": "code",
   "execution_count": 17,
   "id": "9667f2a8",
   "metadata": {},
   "outputs": [],
   "source": [
    "## Eğer yukarıdaki hesaplama işlemi için ##'li ifadeleri kullanaraka sonuca ulaşmak istersek, aşağıdaki gibi değişiklik yaparız.'"
   ]
  },
  {
   "cell_type": "code",
   "execution_count": 19,
   "id": "05c73fc9",
   "metadata": {},
   "outputs": [
    {
     "name": "stdout",
     "output_type": "stream",
     "text": [
      "ilk sayıyı giriniz: 10\n",
      "ikinci sayıyı giriniz: 20\n",
      "İşleminizi seçiniz:  +-/* *\n"
     ]
    },
    {
     "data": {
      "text/plain": [
       "'10 * 20 = 200'"
      ]
     },
     "execution_count": 19,
     "metadata": {},
     "output_type": "execute_result"
    }
   ],
   "source": [
    "def hesapla(a,b,islem):\n",
    "    \n",
    "    if islem==\"+\":\n",
    "        return(str(a)+\" + \"+str(b)+ \" = \" + str(a+b))\n",
    "    if islem==\"-\":\n",
    "        return(str(a)+\" - \"+str(b)+ \" = \" + str(a-b))\n",
    "    if islem==\"/\":\n",
    "        return(str(a)+\" / \"+str(b)+ \" = \" + str(a/b))\n",
    "    if islem==\"*\":\n",
    "        return(str(a)+\" * \"+str(b)+ \" = \" + str(a*b))\n",
    "        \n",
    "    \n",
    "a = int(input(\"ilk sayıyı giriniz: \"))\n",
    "b = int(input(\"ikinci sayıyı giriniz: \"))\n",
    "islem = input(\"İşleminizi seçiniz:  +-/* \")\n",
    "hesapla(a,b,islem)"
   ]
  },
  {
   "cell_type": "markdown",
   "id": "8d0068ac",
   "metadata": {},
   "source": [
    "## Hatalar"
   ]
  },
  {
   "cell_type": "code",
   "execution_count": null,
   "id": "941cbef7",
   "metadata": {},
   "outputs": [
    {
     "name": "stdout",
     "output_type": "stream",
     "text": [
      "ilk sayıyı giriniz: 10\n",
      "ikinci sayıyı giriniz: 5\n",
      "İşleminizi seçiniz:  +-/* gokce\n",
      "Lütfen şu işlemlerden birini seçiniz: +-*/ \n",
      "ilk sayıyı giriniz: 10\n",
      "ikinci sayıyı giriniz: 80\n",
      "İşleminizi seçiniz:  +-/* *\n",
      "10 * 80 = 800\n"
     ]
    }
   ],
   "source": [
    "def hesapla(a,b,islem):\n",
    "    \n",
    "    if islem not in \"+-*/\" :\n",
    "        return \"Lütfen şu işlemlerden birini seçiniz: +-*/ \"\n",
    "    \n",
    "    if islem==\"+\":\n",
    "        return(str(a)+\" + \"+str(b)+ \" = \" + str(a+b))\n",
    "    if islem==\"-\":\n",
    "        return(str(a)+\" - \"+str(b)+ \" = \" + str(a-b))\n",
    "    if islem==\"/\":\n",
    "        return(str(a)+\" / \"+str(b)+ \" = \" + str(a/b))\n",
    "    if islem==\"*\":\n",
    "        return(str(a)+\" * \"+str(b)+ \" = \" + str(a*b))\n",
    "        \n",
    "\n",
    "while True:\n",
    "    a = int(input(\"ilk sayıyı giriniz: \"))\n",
    "    b = int(input(\"ikinci sayıyı giriniz: \"))\n",
    "    islem = input(\"İşleminizi seçiniz:  +-/* \")\n",
    "    print(hesapla(a,b,islem))"
   ]
  },
  {
   "cell_type": "code",
   "execution_count": null,
   "id": "cb8060af",
   "metadata": {},
   "outputs": [
    {
     "name": "stdout",
     "output_type": "stream",
     "text": [
      "ilk sayıyı giriniz: 10\n",
      "ikinci sayıyı giriniz: l\n",
      "lütfen sayıları düzgün giriniz\n",
      "ilk sayıyı giriniz: 50\n",
      "ikinci sayıyı giriniz: 80\n",
      "İşleminizi seçiniz:  +-/* h\n",
      "Lütfen şu işlemlerden birini seçiniz: +-*/ \n",
      "ilk sayıyı giriniz: 100\n",
      "ikinci sayıyı giriniz: /\n",
      "lütfen sayıları düzgün giriniz\n",
      "ilk sayıyı giriniz: 100\n",
      "ikinci sayıyı giriniz: 2\n",
      "İşleminizi seçiniz:  +-/* /\n",
      "100 / 2 = 50.0\n",
      "ilk sayıyı giriniz: 100\n",
      "ikinci sayıyı giriniz: 50\n",
      "İşleminizi seçiniz:  +-/* /\n",
      "100 / 50 = 2.0\n",
      "ilk sayıyı giriniz: 15486362545224669712\n",
      "ikinci sayıyı giriniz: 125479632546\n",
      "İşleminizi seçiniz:  +-/* *\n",
      "15486362545224669712 * 125479632546 = 1943223081648928862475975646752\n"
     ]
    }
   ],
   "source": [
    "def hesapla(a,b,islem):\n",
    "    \n",
    "    if islem not in \"+-*/\" :\n",
    "        return \"Lütfen şu işlemlerden birini seçiniz: +-*/ \"\n",
    "    \n",
    "    if islem==\"+\":\n",
    "        return(str(a)+\" + \"+str(b)+ \" = \" + str(a+b))\n",
    "    if islem==\"-\":\n",
    "        return(str(a)+\" - \"+str(b)+ \" = \" + str(a-b))\n",
    "    if islem==\"/\":\n",
    "        return(str(a)+\" / \"+str(b)+ \" = \" + str(a/b))\n",
    "    if islem==\"*\":\n",
    "        return(str(a)+\" * \"+str(b)+ \" = \" + str(a*b))\n",
    "        \n",
    "\n",
    "while True:\n",
    "    try:\n",
    "        a = int(input(\"ilk sayıyı giriniz: \"))\n",
    "        b = int(input(\"ikinci sayıyı giriniz: \"))\n",
    "        islem = input(\"İşleminizi seçiniz:  +-/* \")\n",
    "        print(hesapla(a,b,islem))\n",
    "    except:\n",
    "        print(\"lütfen sayıları düzgün giriniz\")"
   ]
  },
  {
   "cell_type": "code",
   "execution_count": null,
   "id": "c60fa3e9",
   "metadata": {},
   "outputs": [],
   "source": []
  },
  {
   "cell_type": "code",
   "execution_count": null,
   "id": "6708030a",
   "metadata": {},
   "outputs": [],
   "source": []
  }
 ],
 "metadata": {
  "kernelspec": {
   "display_name": "Python 3 (ipykernel)",
   "language": "python",
   "name": "python3"
  },
  "language_info": {
   "codemirror_mode": {
    "name": "ipython",
    "version": 3
   },
   "file_extension": ".py",
   "mimetype": "text/x-python",
   "name": "python",
   "nbconvert_exporter": "python",
   "pygments_lexer": "ipython3",
   "version": "3.9.7"
  }
 },
 "nbformat": 4,
 "nbformat_minor": 5
}
